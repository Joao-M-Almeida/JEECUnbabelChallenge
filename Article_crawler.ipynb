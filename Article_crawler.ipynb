{
 "cells": [
  {
   "cell_type": "code",
   "execution_count": 29,
   "metadata": {
    "collapsed": true
   },
   "outputs": [],
   "source": [
    "import urllib2\n",
    "from bs4 import BeautifulSoup\n"
   ]
  },
  {
   "cell_type": "code",
   "execution_count": 25,
   "metadata": {
    "collapsed": false
   },
   "outputs": [
    {
     "data": {
      "text/plain": [
       "200"
      ]
     },
     "execution_count": 25,
     "metadata": {},
     "output_type": "execute_result"
    }
   ],
   "source": [
    "a = urllib2.urlopen('http://www.elmundo.es/espana/2016/03/15/56e7ffa922601d0c038b45ca.html')\n",
    "a.getcode()"
   ]
  },
  {
   "cell_type": "code",
   "execution_count": 81,
   "metadata": {
    "collapsed": false,
    "scrolled": false
   },
   "outputs": [],
   "source": [
    "\n"
   ]
  },
  {
   "cell_type": "code",
   "execution_count": 97,
   "metadata": {
    "collapsed": false,
    "scrolled": false
   },
   "outputs": [],
   "source": [
    "site = urllib2.urlopen('http://www.elmundo.es/espana/2016/03/15/56e7ffa922601d0c038b45ca.html')\n",
    "data =''\n",
    "for l in site:\n",
    "     data = data+l\n",
    "BS = BeautifulSoup(data)\n",
    "\n",
    "#BS.\n",
    "#BS=BS.articles\n",
    "#print BS.attrs\n",
    "\n",
    "#for child in BS.children:\n",
    "#    print child.attrs\n",
    "#    if child.get('itemprop')=='articleBody':\n",
    "#        s = child.findAll('p')\n",
    "#        for parag in s:\n",
    "#            print parag.get_text()\n"
   ]
  },
  {
   "cell_type": "code",
   "execution_count": null,
   "metadata": {
    "collapsed": true
   },
   "outputs": [],
   "source": []
  },
  {
   "cell_type": "code",
   "execution_count": 98,
   "metadata": {
    "collapsed": false
   },
   "outputs": [
    {
     "name": "stdout",
     "output_type": "stream",
     "text": [
      "[u'Rajoy se ha mostrado \"tranquilo\" tras las explicaciones de la ex alcaldesa; Maroto: \\'Me parecen insuficientes y creo adem\\xe1s que no han solucionado nada\\'Rita Barber\\xe1: \"Acepto el ofrecimiento del juez y colaborar\\xe9 con la justicia\"AN\\xc1LISIS: \\xbfEst\\xe1 imputada Rita Barber\\xe1? Lo est\\xe1, claro que s\\xed, por Joaqu\\xedn MansoLa fractura interna en el PP por la gesti\\xf3n de los casos de corrupci\\xf3n se ha hecho m\\xe1s profunda hoy', u' El respaldo que Mariano Rajoy da a Rita Barber\\xe1 ha vuelto a generar una brecha interna que se visualiza p\\xfablicamente', u' Las explicaciones de la ex al alcaldesa de Valencia han generado de nuevo el rechazo de dirigentes y cuadros medios que se sienten muy lejos de las pr\\xe1cticas que el juez investiga en el PP de Barber\\xe1 y que piensan que se debe ser m\\xe1s contundentes en la lucha interna contra estas corruptelas', u' Por eso, el vaso del hartazgo se ha desbordado de nuevo', u' El vicesecretario de Sectorial del PP, Javier Maroto, ha puesto hoy voz a muchas de estas personas', u' Muy cr\\xedtico ya en otras ocasiones -ha llegado a pedir una \"purga\" para limpiar el partido- hoy ha criticado abiertamente las declaraciones de Barber\\xe1 y ha dicho que le parecen \"insuficientes\"', u' \"No me han gustado nada\", ha se\\xf1alado', u' \"No puedo ser m\\xe1s claro\"', u'Su postura ha chocado frontalmente con la posici\\xf3n manifestada despu\\xe9s por Mariano Rajoy', u' Los dos se encontraban esta ma\\xf1ana en el mismo acto, en la inauguraci\\xf3n del Museo Efe', u' Tras las valoraciones de Maroto, Rajoy mostraba su apoyo a Barber\\xe1', u' A \\xe9l sus explicaciones s\\xed le convenc\\xedan', u' El presidente ha apoyado que la ex alcaldesa y senadora vaya a comparecer ante el juez, despu\\xe9s del auto de ayer en que el juez le ofrec\\xeda esta posibilidad', u' \"A m\\xed eso me deja tranquilo\", ha dicho Rajoy que, sin embargo, no ha querido responder sobre las conversaciones que ha podido mantener con Barber\\xe1 y que ella misma ha revelado esta ma\\xf1ana', u' \"Lo que me parece importante es que se va a poner a disposici\\xf3n del juez\", ha defendido el presidente', u' Nosotros, ha a\\xf1adido, en referencia al PP, \"siempre hemos dicho que estaremos a lo que digan los tribunales\"', u' \"Es un paso muy importante\", ha insistido Rajoy', u' Poco despu\\xe9s Pablo Casado, tambi\\xe9n presente en el estreno del Museo Efe, conociendo ya el pronunciamiento de Rajoy ha avalado las cr\\xedticas de Maroto y ha coincidido que las explicaciones de Barber\\xe1 eran\"insuficientes\"', u' No es la primera vez que Casado rompe la l\\xednea oficial del PP sobre la corrupci\\xf3n', u' Pero si la primera vez que dos vicesecretarios se auxilian uno al otro para defender una posici\\xf3n distinta a la marcada por el presidente', u' En el \\xfaltimo Comit\\xe9 Ejecutivo del PP Casado sorprendi\\xf3 a los suyos exhibiendo un enfado monumental por el da\\xf1o que los casos de corrupci\\xf3n hacen al partido', u' \"Estamos hasta las narices\", dijo', u'El vicesecretario de Comunicaci\\xf3n del PP se confes\\xf3 \"hasta las narices\" y \"cabreado\"', u' \"Yo llevo cuatro a\\xf1os hablando demasiadas veces de pr\\xe1cticas corruptas de alg\\xfan compa\\xf1ero de partido con lo cual no s\\xf3lo es que me parezca vomitivo y abominable, es que adem\\xe1s me siento directamente perjudicado por gente que ni conoc\\xedamos, que yo como portavoz tengo la obligaci\\xf3n de salvaguardar el nombre tremendamente honorable de este partido\", apuntaba', u' En esa misma comparecencia mandaba recado a Barber\\xe1 y le recordaba que \"hay vida despu\\xe9s de la pol\\xedtica\"', u' Su reacci\\xf3n, su enfado fue m\\xe1s chocante porque muy poco antes en la intervenci\\xf3n que Rajoy pronunci\\xf3 ante el Comit\\xe9 Ejecutivo el presidente hab\\xeda pedido al partido que afrontara \"con serenidad\" y sin \"histeria\" los casos de corrupci\\xf3n', u' Desde aquel momento el malestar no ha hecho m\\xe1s que aumentar, despu\\xe9s de que el blindaje a Barber\\xe1 en el Senado, la decisi\\xf3n de Rajoy de permitir que siguiera en la Diputaci\\xf3n Permanente de la C\\xe1mara para mantenerse aforado a\\xfan en el caso de que haya nuevas elecciones, marcara un antes y un despu\\xe9s', u' Este respaldo no fue entendido por el partido y dispar\\xf3 las cr\\xedticas internas que ya se producen a cara descubierta', u' Ahora, habr\\xe1 que ver en los pr\\xf3ximos d\\xedas y semanas cu\\xe1l es la reacci\\xf3n del presidente con sus vicesecretarios', u' En estos momentos van por libre, seg\\xfan confirman fuentes del partido, pero representando a mucha gente que est\\xe1 hastiada de ponerse una pinza en la nariz', u' En el PP se ha producido una aut\\xe9ntica brecha generacional entre quienes han participado en los usos y costumbres tradicionales de funcionamiento del partido y quien ni los aprueban ni piensan que debe ser la manera de actuar', u' Una nueva generaci\\xf3n, con otro modo de hacer pol\\xedtica, que pide paso', u'En los pr\\xf3ximos d\\xedas la direcci\\xf3n del PP gozar\\xe1 de una oportunidad de oro para dejar patente su compromiso en la lucha contra la corrupci\\xf3n', u' Los concejales imputados en Valencia ya han dejado claro que no est\\xe1n dispuestos a dejar el acta, a pesar de que hab\\xedan alcanzado un acuerdo con la direcci\\xf3n de que lo har\\xedan si cuando se levantara el secreto del sumario segu\\xedan investigados', u' El PP valenciano tiene intenci\\xf3n de expulsarlos, por lo que la presi\\xf3n sobre Madrid para que act\\xfae contra Barber\\xe1 no ha hecho m\\xe1s que empezar', u'']\n"
     ]
    }
   ],
   "source": [
    "print extract_article('http://www.elmundo.es/espana/2016/03/15/56e7ffa922601d0c038b45ca.html').split('.')"
   ]
  },
  {
   "cell_type": "code",
   "execution_count": 87,
   "metadata": {
    "collapsed": true
   },
   "outputs": [],
   "source": [
    "\n",
    "def extract_article(url):\n",
    "    site = urllib2.urlopen(url)\n",
    "    text = ''\n",
    "    if site.getcode() == 200:\n",
    "        data =''\n",
    "        for l in site:\n",
    "            data = data+l\n",
    "        BS = BeautifulSoup(data)\n",
    "        try:\n",
    "            BS=BS.article\n",
    "        except AttributeError:\n",
    "            return text\n",
    "        for child in BS.children:\n",
    "            if child.get('itemprop')=='articleBody':\n",
    "                s = child.findAll('p')\n",
    "                for parag in s:\n",
    "                    text = text + parag.get_text()   \n",
    "        return text\n",
    "    else:\n",
    "        return text\n",
    "        \n",
    "        \n",
    "        "
   ]
  },
  {
   "cell_type": "code",
   "execution_count": null,
   "metadata": {
    "collapsed": true
   },
   "outputs": [],
   "source": [
    "def arcticle_crawler(root_url, storage_path, max_articles = 20):\n",
    "    to_visit = []\n",
    "    already_visited = set([])\n",
    "    "
   ]
  }
 ],
 "metadata": {
  "kernelspec": {
   "display_name": "Python 2",
   "language": "python",
   "name": "python2"
  },
  "language_info": {
   "codemirror_mode": {
    "name": "ipython",
    "version": 2
   },
   "file_extension": ".py",
   "mimetype": "text/x-python",
   "name": "python",
   "nbconvert_exporter": "python",
   "pygments_lexer": "ipython2",
   "version": "2.7.6"
  }
 },
 "nbformat": 4,
 "nbformat_minor": 0
}
