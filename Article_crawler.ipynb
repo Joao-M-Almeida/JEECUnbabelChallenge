{
 "cells": [
  {
   "cell_type": "code",
   "execution_count": 9,
   "metadata": {
    "collapsed": false
   },
   "outputs": [],
   "source": [
    "import urllib2\n",
    "from bs4 import BeautifulSoup\n",
    "from urllib2 import HTTPError\n",
    "import re\n",
    "import pandas as pd\n",
    "import csv\n",
    "import codecs\n",
    "import os\n"
   ]
  },
  {
   "cell_type": "code",
   "execution_count": null,
   "metadata": {
    "collapsed": false
   },
   "outputs": [],
   "source": []
  },
  {
   "cell_type": "code",
   "execution_count": null,
   "metadata": {
    "collapsed": false,
    "scrolled": false
   },
   "outputs": [],
   "source": []
  },
  {
   "cell_type": "code",
   "execution_count": null,
   "metadata": {
    "collapsed": false,
    "scrolled": true
   },
   "outputs": [],
   "source": [
    "\n",
    "\n"
   ]
  },
  {
   "cell_type": "code",
   "execution_count": 2,
   "metadata": {
    "collapsed": true
   },
   "outputs": [],
   "source": [
    "# Receives htlm text\n",
    "# Returns a list of all urls that are tagged a and start with 'http://'\n",
    "def find_urls(data):\n",
    "    BS = BeautifulSoup(data)\n",
    "    urls = BS.findAll('a')\n",
    "    url_list = []\n",
    "    for link in urls:\n",
    "        try:\n",
    "            url_list.append(link['href'])\n",
    "        except KeyError:\n",
    "            pass\n",
    "            #print link.attrs\n",
    "    url_list = [url for url in url_list if re.match('http://.*', url, ) != None]\n",
    "    return url_list"
   ]
  },
  {
   "cell_type": "code",
   "execution_count": 3,
   "metadata": {
    "collapsed": true
   },
   "outputs": [],
   "source": [
    "def extract_article(data):\n",
    "    text = ''\n",
    "    BS = BeautifulSoup(data)\n",
    "    try:\n",
    "        BS=BS.article\n",
    "        if BS == None:\n",
    "            return text\n",
    "        for child in BS.children:\n",
    "            if child.get('itemprop')=='articleBody':\n",
    "                s = child.findAll('p')\n",
    "                for parag in s:\n",
    "                    text = text + parag.get_text() \n",
    "    except AttributeError:\n",
    "        return text  \n",
    "    return text\n"
   ]
  },
  {
   "cell_type": "code",
   "execution_count": 4,
   "metadata": {
    "collapsed": false
   },
   "outputs": [],
   "source": [
    "def clean_url(url):\n",
    "    m = re.search(\"(https?://[a-zA-Z0-9.\\/]+)\", url)\n",
    "    return m.group(1)"
   ]
  },
  {
   "cell_type": "code",
   "execution_count": 5,
   "metadata": {
    "collapsed": false
   },
   "outputs": [
    {
     "data": {
      "text/plain": [
       "'http://www.elmundo.es/loc.html'"
      ]
     },
     "execution_count": 5,
     "metadata": {},
     "output_type": "execute_result"
    }
   ],
   "source": [
    "clean_url('http://www.elmundo.es/loc.html')"
   ]
  },
  {
   "cell_type": "code",
   "execution_count": 6,
   "metadata": {
    "collapsed": false
   },
   "outputs": [],
   "source": [
    "def filter_urls(urls, current_url, already_visited = set([])):\n",
    "    to_return = []\n",
    "    for u in urls:\n",
    "        u = clean_url(u)\n",
    "        if u not in already_visited:\n",
    "            domain_lst = u[7:].split('.')\n",
    "            curr_domain = current_url[7:].split('.')\n",
    "            if domain_lst[0] == curr_domain[0] and domain_lst[1] == curr_domain[1]:\n",
    "                to_return.append(u)\n",
    "    return to_return\n",
    "\n",
    "        "
   ]
  },
  {
   "cell_type": "code",
   "execution_count": 12,
   "metadata": {
    "collapsed": false
   },
   "outputs": [],
   "source": [
    "def arcticle_crawler(root_url, max_articles = 20):\n",
    "    to_visit = []\n",
    "    already_visited = set([])\n",
    "    found_articles = 0\n",
    "    to_visit.append(root_url)\n",
    "    while to_visit and max_articles-found_articles>0:\n",
    "        #print max_articles\n",
    "        url = to_visit.pop(0)\n",
    "        if url not in already_visited:\n",
    "            try:\n",
    "                site = urllib2.urlopen(url)\n",
    "                text = ''\n",
    "                if site.getcode() == 200:\n",
    "                    data =''\n",
    "                    for l in site:\n",
    "                        data = data+l\n",
    "                    urls = find_urls(data)\n",
    "                    article = extract_article(data)\n",
    "                    if(len(article)>0):\n",
    "                        print \"Found text of size: \" + str(len(article))\n",
    "                        found_articles = found_articles+1\n",
    "                        print url\n",
    "                        with codecs.open('article' + str(found_articles) + '.txt', \"w\", \"utf-8-sig\") as temp:\n",
    "                            temp.write(article)\n",
    "                    to_visit = to_visit + filter_urls(urls, url, already_visited)\n",
    "            except HTTPError:\n",
    "                pass\n",
    "            already_visited.add(url)\n",
    "            print \"Still have \" + str(len(to_visit)) +\" urls to visit, found: \"+str(found_articles)+\" articles.\" \n",
    "\n",
    "    #return already_visited"
   ]
  },
  {
   "cell_type": "code",
   "execution_count": 11,
   "metadata": {
    "collapsed": false
   },
   "outputs": [
    {
     "name": "stdout",
     "output_type": "stream",
     "text": [
      "Still have 147 urls to visit, found: 0 articles.\n",
      "Still have 491 urls to visit, found: 0 articles.\n",
      "Still have 653 urls to visit, found: 0 articles.\n",
      "Still have 829 urls to visit, found: 0 articles.\n",
      "Still have 989 urls to visit, found: 0 articles.\n",
      "Still have 1120 urls to visit, found: 0 articles.\n",
      "Still have 1119 urls to visit, found: 0 articles.\n",
      "Still have 1411 urls to visit, found: 0 articles.\n",
      "Still have 1550 urls to visit, found: 0 articles.\n",
      "Still have 1647 urls to visit, found: 0 articles.\n",
      "Still have 1933 urls to visit, found: 0 articles.\n",
      "Still have 2118 urls to visit, found: 0 articles.\n",
      "Still have 2316 urls to visit, found: 0 articles.\n",
      "Still have 2529 urls to visit, found: 0 articles.\n",
      "Still have 2702 urls to visit, found: 0 articles.\n",
      "Still have 3054 urls to visit, found: 0 articles.\n",
      "Still have 3212 urls to visit, found: 0 articles.\n",
      "Still have 3315 urls to visit, found: 0 articles.\n",
      "Still have 3380 urls to visit, found: 0 articles.\n",
      "Still have 3658 urls to visit, found: 0 articles.\n",
      "Still have 3886 urls to visit, found: 0 articles.\n",
      "Still have 4021 urls to visit, found: 0 articles.\n",
      "Still have 4144 urls to visit, found: 0 articles.\n",
      "Still have 4403 urls to visit, found: 0 articles.\n",
      "Still have 4402 urls to visit, found: 0 articles.\n",
      "Still have 4401 urls to visit, found: 0 articles.\n",
      "Found text of size: 6504\n",
      "http://www.elmundo.es/espana/2016/03/16/56e92ad522601da5118b46a9.html\n",
      "Still have 4454 urls to visit, found: 1 articles.\n",
      "Still have 4477 urls to visit, found: 1 articles.\n",
      "Still have 4476 urls to visit, found: 1 articles.\n",
      "Found text of size: 5956\n",
      "http://www.elmundo.es/espana/2016/03/16/56e93a15e2704e65298b45af.html\n",
      "Still have 4522 urls to visit, found: 2 articles.\n",
      "Still have 4520 urls to visit, found: 2 articles.\n",
      "Found text of size: 4390\n",
      "http://www.elmundo.es/espana/2016/03/16/56e9848bca4741d4318b4653.html\n",
      "Still have 4558 urls to visit, found: 3 articles.\n",
      "Found text of size: 5736\n",
      "http://www.elmundo.es/espana/2016/03/16/56e92ec6268e3e99488b459d.html\n",
      "Still have 4599 urls to visit, found: 4 articles.\n",
      "Still have 4623 urls to visit, found: 4 articles.\n",
      "Found text of size: 2782\n",
      "http://www.elmundo.es/andalucia/sevilla/2016/03/16/56e9557222601da06c8b4585.html\n",
      "Still have 4664 urls to visit, found: 5 articles.\n"
     ]
    },
    {
     "data": {
      "text/plain": [
       "{'http://www.elmundo.es',\n",
       " 'http://www.elmundo.es/',\n",
       " 'http://www.elmundo.es/andalucia.html',\n",
       " 'http://www.elmundo.es/andalucia/sevilla/2016/03/16/56e9557222601da06c8b4585.html',\n",
       " 'http://www.elmundo.es/baleares.html',\n",
       " 'http://www.elmundo.es/ciencia.html',\n",
       " 'http://www.elmundo.es/comunidad',\n",
       " 'http://www.elmundo.es/cultura.html',\n",
       " 'http://www.elmundo.es/deportes.html',\n",
       " 'http://www.elmundo.es/economia.html',\n",
       " 'http://www.elmundo.es/elmundo/barcelona.html',\n",
       " 'http://www.elmundo.es/espana',\n",
       " 'http://www.elmundo.es/espana.html',\n",
       " 'http://www.elmundo.es/espana/2016/03/16/56e92ad522601da5118b46a9.html',\n",
       " 'http://www.elmundo.es/espana/2016/03/16/56e92ec6268e3e99488b459d.html',\n",
       " 'http://www.elmundo.es/espana/2016/03/16/56e93a15e2704e65298b45af.html',\n",
       " 'http://www.elmundo.es/espana/2016/03/16/56e9848bca4741d4318b4653.html',\n",
       " 'http://www.elmundo.es/f5.html',\n",
       " 'http://www.elmundo.es/internacional.html',\n",
       " 'http://www.elmundo.es/loc.html',\n",
       " 'http://www.elmundo.es/madrid.html',\n",
       " 'http://www.elmundo.es/menu.html',\n",
       " 'http://www.elmundo.es/motor.html',\n",
       " 'http://www.elmundo.es/opinion.html',\n",
       " 'http://www.elmundo.es/pais',\n",
       " 'http://www.elmundo.es/papel.html',\n",
       " 'http://www.elmundo.es/social/usuarios/alvaro',\n",
       " 'http://www.elmundo.es/social/usuarios/marisa',\n",
       " 'http://www.elmundo.es/social/usuarios/raulpina/',\n",
       " 'http://www.elmundo.es/social/usuarios/rterrasa/',\n",
       " 'http://www.elmundo.es/sociedad.html',\n",
       " 'http://www.elmundo.es/tecnologia.html',\n",
       " 'http://www.elmundo.es/television.html',\n",
       " 'http://www.elmundo.es/vida',\n",
       " 'http://www.elmundo.es/yodona.html'}"
      ]
     },
     "execution_count": 11,
     "metadata": {},
     "output_type": "execute_result"
    }
   ],
   "source": [
    "url = 'http://www.elmundo.es/espana/2016/03/15/56e7ffa922601d0c038b45ca.html'\n",
    "\n",
    "arcticle_crawler('http://www.elmundo.es/espana', max_articles=5)"
   ]
  },
  {
   "cell_type": "code",
   "execution_count": null,
   "metadata": {
    "collapsed": true
   },
   "outputs": [],
   "source": []
  }
 ],
 "metadata": {
  "kernelspec": {
   "display_name": "Python 2",
   "language": "python",
   "name": "python2"
  },
  "language_info": {
   "codemirror_mode": {
    "name": "ipython",
    "version": 2
   },
   "file_extension": ".py",
   "mimetype": "text/x-python",
   "name": "python",
   "nbconvert_exporter": "python",
   "pygments_lexer": "ipython2",
   "version": "2.7.6"
  }
 },
 "nbformat": 4,
 "nbformat_minor": 0
}
