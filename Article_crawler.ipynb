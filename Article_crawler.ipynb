{
 "cells": [
  {
   "cell_type": "code",
   "execution_count": 28,
   "metadata": {
    "collapsed": true
   },
   "outputs": [],
   "source": [
    "import urllib2\n",
    "from bs4 import BeautifulSoup\n",
    "import re"
   ]
  },
  {
   "cell_type": "code",
   "execution_count": 25,
   "metadata": {
    "collapsed": false
   },
   "outputs": [
    {
     "data": {
      "text/plain": [
       "200"
      ]
     },
     "execution_count": 25,
     "metadata": {},
     "output_type": "execute_result"
    }
   ],
   "source": [
    "a = urllib2.urlopen('http://www.elmundo.es/espana/2016/03/15/56e7ffa922601d0c038b45ca.html')\n",
    "a.getcode()"
   ]
  },
  {
   "cell_type": "code",
   "execution_count": 81,
   "metadata": {
    "collapsed": false,
    "scrolled": false
   },
   "outputs": [],
   "source": [
    "\n"
   ]
  },
  {
   "cell_type": "code",
   "execution_count": 30,
   "metadata": {
    "collapsed": false,
    "scrolled": true
   },
   "outputs": [
    {
     "name": "stdout",
     "output_type": "stream",
     "text": [
      "['http://www.elmundo.es/loc.html?cid=MENUPROD26501&s_kw=loc', 'http://www.elmundo.es/yodona.html?cid=MENUPROD26501&s_kw=yodona', 'http://www.ocholeguas.com?cid=MENUPROD26501&s_kw=ocholeguas', 'http://www.elmundo.es/motor.html?cid=MENUPROD26501&s_kw=motor', 'http://www.metropoli.com/?cid=MENUPROD26501&s_kw=metropoli', 'http://www.elmundo.es/papel.html?cid=MENUPROD26501&s_kw=papel', 'http://www.elmundo.es/f5.html?cid=MENUPROD26501&s_kw=FCinco', 'http://www.elmundo.es/vida-sana.html?cid=MENUPROD26501&s_kw=vida-sana', 'http://suscripcion.elmundo.es/ofertas/', 'http://www.elmundo.es/', 'http://ariadna.elmundo.es/buscador/archivo.html', 'http://ariadna.elmundo.es/buscador/archivo.html', 'http://www.elmundo.es/espana.html?cid=MENUHOM24801&s_kw=espana', 'http://www.elmundo.es/opinion.html?cid=MENUHOM24801&s_kw=opinion', 'http://www.elmundo.es/internacional.html?cid=MENUHOM24801&s_kw=internacional', 'http://www.elmundo.es/economia.html?cid=MENUHOM24801&s_kw=economia', 'http://www.elmundo.es/sociedad.html?cid=MENUHOM24801&s_kw=sociedad', 'http://www.elmundo.es/deportes.html?cid=MENUHOM24801&s_kw=deportes', 'http://www.elmundo.es/cultura.html?cid=MENUHOM24801&s_kw=cultura', 'http://www.elmundo.es/ciencia.html?cid=MENUHOM24801&s_kw=ciencia', 'http://www.elmundo.es/tecnologia.html?cid=MENUHOM24801&s_kw=tecnologia', 'http://www.elmundo.es/television.html?cid=MENUHOM24801&s_kw=television', 'http://www.elmundo.es/menu.html?cid=MENUHAMB26301&s_kw=menu', 'http://www.elmundo.es', 'http://www.elmundo.es/espana.html', 'http://www.elmundo.es/madrid.html', 'http://www.elmundo.es/andalucia.html', 'http://www.elmundo.es/baleares.html', 'http://www.elmundo.es/elmundo/barcelona.html', 'http://www.elmundo.es/comunidad-valenciana.html', 'http://www.elmundo.es/pais-vasco.html', 'http://www.elmundo.es/el-mundo-tv/2016/02/09/56b990fe268e3e51338b4675.html?cid=ULTHR22001&s_kw=directo', 'http://www.elmundo.es/comunidad-valenciana/2016/03/15/56e7aed0268e3e3d098b45c3.html', 'http://www.elmundo.es/espana/2016/03/15/56e812c522601d4e788b460b.html', 'http://www.elmundo.es/social/usuarios/marisol_hernandez/', 'http://www.elmundo.es/social/usuarios/marisa_cruz/', 'http://www.elmundo.es/e/pp/pp-partido-popular.html', 'http://www.elmundo.es/e/ma/mariano-rajoy.html', 'http://www.elmundo.es/e/ri/rita-barbera.html', 'http://www.elmundo.es/comunidad-valenciana/2016/03/15/56e7aed0268e3e3d098b45c3.html', 'http://www.elmundo.es/comunidad-valenciana/2016/03/14/56e71a8ae2704eb20e8b45fd.html', 'http://www.elmundo.es/e/ja/javier-maroto.html', 'http://www.elmundo.es/espana/2016/02/12/56bd9efa268e3ece488b4609.html', 'http://www.elmundo.es/espana/2016/02/09/56b9ba79e2704e09768b458d.html', 'http://www.elmundo.es/comunidad-valenciana/2016/03/15/56e7f41c268e3e4b1e8b460f.html', 'http://www.elmundo.es/comunidad-valenciana/2016/02/26/56d0257846163fe7468b45f6.html?cid=MNOT23801&s_kw=los_disparos_de_rita_barbera', 'http://www.elmundo.es/espana/2016/02/26/56cf8604ca47414c548b45c1.html?cid=MNOT23801&s_kw=la_aparicion_de_rita_barbera_solo_convence_a_rajoy_en_el_pp', 'http://www.elmundo.es/espana/2016/03/14/56e6c328e2704e39438b4598.html?cid=MNOT23801&s_kw=el_partido_popular_esquiva_las_preguntas_sobre_barbera', 'http://www.elmundo.es/espana/2016/02/23/56cb960022601d006d8b45d1.html?cid=MNOT23801&s_kw=rajoy_critica_que_le_pidan_la_expulsion_de_barbera_cuando_no_sabe_de_que_se_le_acusa_es_que_no_es_tan_facil', 'http://www.elmundo.es/comunidad-valenciana/2016/02/25/56cec9aee2704ecb348b4670.html?cid=MNOT23801&s_kw=rita_barbera_convoca_a_la_prensa_para_explicar_su_vinculacion_con_taula', 'http://www.elmundo.es/e/pp/pp-partido-popular.html', 'http://www.elmundo.es/e/ja/javier-maroto.html', 'http://www.elmundo.es/e/ma/mariano-rajoy.html', 'http://www.elmundo.es/t/op/operacion-taula.html', 'http://www.elmundo.es/t/co/corrupcion.html', 'http://www.elmundo.es/e/ri/rita-barbera.html', 'http://www.elmundo.es/e/pa/pablo-casado.html', 'http://www.elmundo.es/comunidad-valenciana/valencia.html', 'http://www.elmundo.es/e/se/senado.html', 'http://www.elmundo.es/madrid.html', 'http://suscripcion.elmundo.es/ofertas?cid=VENDIG26601&s_kw=cap_cin_continua', 'http://www.elmundo.es/lo-mas/noticias-mas-leidas.html', 'http://www.elmundo.es/espana/2016/03/15/56e7ffa922601d0c038b45ca.html', 'http://www.elmundo.es/espana/2016/03/15/56e8904b22601d160c8b466d.html', 'http://www.elmundo.es/espana/2016/03/15/56e801e822601da5118b45ff.html', 'http://www.elmundo.es/espana/2016/03/14/56e5d56c46163ff5218b4640.html', 'http://www.elmundo.es/espana/2016/03/15/56e7270c268e3eab208b45f9.html', 'http://www.elmundo.es', 'http://www.elmundo.es/eventos/en-directo/2016/03/15/30946-atletico-psv/', 'http://www.elmundo.es/eventos/en-directo/2016/03/15/30947-m-city-d-kiev/', 'http://www.elmundo.es/servicios/', 'http://quiosco.orbyt.es/', 'http://www.elmundo.es/traductor/', 'http://www.elmundo.es/television/programacion-tv/', 'http://www.elmundo.es/diccionarios/', 'http://www.elmundo.es/horoscopo/', 'http://www.elmundo.es/tiempo/', 'http://www.elmundo.es/promociones/', 'http://www.elmundo.es/loterias/', 'http://www.elmundo.es/tarot/', 'http://seguroscoche.elmundo.es/', 'http://comparador.elmundo.es/', 'http://www.escuelaunidadeditorial.es/', 'http://www.elcultural.com/', 'http://elmundovino.elmundo.es/elmundovino/', 'http://www.elmundo.es/happy-fm.html', 'http://seguroscoche.elmundo.es/?utm_source=elmundo&utm_medium=widget&utm_campaign=elmundo-motor', 'http://seguroscoche.elmundo.es/?utm_source=elmundo&utm_medium=widget&utm_campaign=elmundo-motor', 'http://seguroscoche.elmundo.es/?utm_source=elmundo&utm_medium=widget&utm_campaign=elmundo-motor', 'http://www.marca.com/motor.html', 'http://www.elmundo.es/economia/vivienda.html', 'http://www.correofarmaceutico.com/', 'http://www.dmedicina.com/', 'http://www.diariomedico.com/', 'http://www.tiramillas.net/', 'http://www.telva.com/', 'http://www.buhomag.com/', 'http://www.escuelaunidadeditorial.es/', 'http://www.unidadeditorial.es/', 'http://www.expansionyempleo.com/', 'http://www.elmundo.es/privacidad/avisolegal.html', 'http://www.elmundo.es/privacidad/', 'http://cookies.unidadeditorial.es/', 'http://www.ojd.es/', 'http://www.elmundo.es/registro/contacto.html', 'http://www.unidadeditorial.com/publicidad', 'http://www.elmundo.es/rss/', 'http://www.reverso.net/', 'http://www.eu.ntt.com/es/index.html']\n"
     ]
    }
   ],
   "source": [
    "url = 'http://www.elmundo.es/espana/2016/03/15/56e7ffa922601d0c038b45ca.html'\n",
    "\n",
    "\n",
    "site = urllib2.urlopen(url)\n",
    "text = ''\n",
    "if site.getcode() == 200:\n",
    "    data =''\n",
    "    for l in site:\n",
    "        data = data+l\n",
    "        \n",
    "    BS = BeautifulSoup(data)\n",
    "    urls = BS.findAll('a')\n",
    "    #print urls\n",
    "    url_list = []\n",
    "    for link in urls:\n",
    "        try:\n",
    "            url_list.append(link['href'])\n",
    "        except KeyError:\n",
    "            pass\n",
    "            #print link.attrs\n",
    "    url_list = [url for url in url_list if re.match('http://.*', url, ) != None]\n",
    "    "
   ]
  },
  {
   "cell_type": "code",
   "execution_count": 5,
   "metadata": {
    "collapsed": true
   },
   "outputs": [],
   "source": [
    "def extract_article(data):\n",
    "    BS = BeautifulSoup(data)\n",
    "    try:\n",
    "        BS=BS.article\n",
    "    except AttributeError:\n",
    "        return text\n",
    "    for child in BS.children:\n",
    "        if child.get('itemprop')=='articleBody':\n",
    "            s = child.findAll('p')\n",
    "            for parag in s:\n",
    "                text = text + parag.get_text()   \n",
    "    return text\n"
   ]
  },
  {
   "cell_type": "code",
   "execution_count": 98,
   "metadata": {
    "collapsed": false
   },
   "outputs": [
    {
     "name": "stdout",
     "output_type": "stream",
     "text": [
      "[u'Rajoy se ha mostrado \"tranquilo\" tras las explicaciones de la ex alcaldesa; Maroto: \\'Me parecen insuficientes y creo adem\\xe1s que no han solucionado nada\\'Rita Barber\\xe1: \"Acepto el ofrecimiento del juez y colaborar\\xe9 con la justicia\"AN\\xc1LISIS: \\xbfEst\\xe1 imputada Rita Barber\\xe1? Lo est\\xe1, claro que s\\xed, por Joaqu\\xedn MansoLa fractura interna en el PP por la gesti\\xf3n de los casos de corrupci\\xf3n se ha hecho m\\xe1s profunda hoy', u' El respaldo que Mariano Rajoy da a Rita Barber\\xe1 ha vuelto a generar una brecha interna que se visualiza p\\xfablicamente', u' Las explicaciones de la ex al alcaldesa de Valencia han generado de nuevo el rechazo de dirigentes y cuadros medios que se sienten muy lejos de las pr\\xe1cticas que el juez investiga en el PP de Barber\\xe1 y que piensan que se debe ser m\\xe1s contundentes en la lucha interna contra estas corruptelas', u' Por eso, el vaso del hartazgo se ha desbordado de nuevo', u' El vicesecretario de Sectorial del PP, Javier Maroto, ha puesto hoy voz a muchas de estas personas', u' Muy cr\\xedtico ya en otras ocasiones -ha llegado a pedir una \"purga\" para limpiar el partido- hoy ha criticado abiertamente las declaraciones de Barber\\xe1 y ha dicho que le parecen \"insuficientes\"', u' \"No me han gustado nada\", ha se\\xf1alado', u' \"No puedo ser m\\xe1s claro\"', u'Su postura ha chocado frontalmente con la posici\\xf3n manifestada despu\\xe9s por Mariano Rajoy', u' Los dos se encontraban esta ma\\xf1ana en el mismo acto, en la inauguraci\\xf3n del Museo Efe', u' Tras las valoraciones de Maroto, Rajoy mostraba su apoyo a Barber\\xe1', u' A \\xe9l sus explicaciones s\\xed le convenc\\xedan', u' El presidente ha apoyado que la ex alcaldesa y senadora vaya a comparecer ante el juez, despu\\xe9s del auto de ayer en que el juez le ofrec\\xeda esta posibilidad', u' \"A m\\xed eso me deja tranquilo\", ha dicho Rajoy que, sin embargo, no ha querido responder sobre las conversaciones que ha podido mantener con Barber\\xe1 y que ella misma ha revelado esta ma\\xf1ana', u' \"Lo que me parece importante es que se va a poner a disposici\\xf3n del juez\", ha defendido el presidente', u' Nosotros, ha a\\xf1adido, en referencia al PP, \"siempre hemos dicho que estaremos a lo que digan los tribunales\"', u' \"Es un paso muy importante\", ha insistido Rajoy', u' Poco despu\\xe9s Pablo Casado, tambi\\xe9n presente en el estreno del Museo Efe, conociendo ya el pronunciamiento de Rajoy ha avalado las cr\\xedticas de Maroto y ha coincidido que las explicaciones de Barber\\xe1 eran\"insuficientes\"', u' No es la primera vez que Casado rompe la l\\xednea oficial del PP sobre la corrupci\\xf3n', u' Pero si la primera vez que dos vicesecretarios se auxilian uno al otro para defender una posici\\xf3n distinta a la marcada por el presidente', u' En el \\xfaltimo Comit\\xe9 Ejecutivo del PP Casado sorprendi\\xf3 a los suyos exhibiendo un enfado monumental por el da\\xf1o que los casos de corrupci\\xf3n hacen al partido', u' \"Estamos hasta las narices\", dijo', u'El vicesecretario de Comunicaci\\xf3n del PP se confes\\xf3 \"hasta las narices\" y \"cabreado\"', u' \"Yo llevo cuatro a\\xf1os hablando demasiadas veces de pr\\xe1cticas corruptas de alg\\xfan compa\\xf1ero de partido con lo cual no s\\xf3lo es que me parezca vomitivo y abominable, es que adem\\xe1s me siento directamente perjudicado por gente que ni conoc\\xedamos, que yo como portavoz tengo la obligaci\\xf3n de salvaguardar el nombre tremendamente honorable de este partido\", apuntaba', u' En esa misma comparecencia mandaba recado a Barber\\xe1 y le recordaba que \"hay vida despu\\xe9s de la pol\\xedtica\"', u' Su reacci\\xf3n, su enfado fue m\\xe1s chocante porque muy poco antes en la intervenci\\xf3n que Rajoy pronunci\\xf3 ante el Comit\\xe9 Ejecutivo el presidente hab\\xeda pedido al partido que afrontara \"con serenidad\" y sin \"histeria\" los casos de corrupci\\xf3n', u' Desde aquel momento el malestar no ha hecho m\\xe1s que aumentar, despu\\xe9s de que el blindaje a Barber\\xe1 en el Senado, la decisi\\xf3n de Rajoy de permitir que siguiera en la Diputaci\\xf3n Permanente de la C\\xe1mara para mantenerse aforado a\\xfan en el caso de que haya nuevas elecciones, marcara un antes y un despu\\xe9s', u' Este respaldo no fue entendido por el partido y dispar\\xf3 las cr\\xedticas internas que ya se producen a cara descubierta', u' Ahora, habr\\xe1 que ver en los pr\\xf3ximos d\\xedas y semanas cu\\xe1l es la reacci\\xf3n del presidente con sus vicesecretarios', u' En estos momentos van por libre, seg\\xfan confirman fuentes del partido, pero representando a mucha gente que est\\xe1 hastiada de ponerse una pinza en la nariz', u' En el PP se ha producido una aut\\xe9ntica brecha generacional entre quienes han participado en los usos y costumbres tradicionales de funcionamiento del partido y quien ni los aprueban ni piensan que debe ser la manera de actuar', u' Una nueva generaci\\xf3n, con otro modo de hacer pol\\xedtica, que pide paso', u'En los pr\\xf3ximos d\\xedas la direcci\\xf3n del PP gozar\\xe1 de una oportunidad de oro para dejar patente su compromiso en la lucha contra la corrupci\\xf3n', u' Los concejales imputados en Valencia ya han dejado claro que no est\\xe1n dispuestos a dejar el acta, a pesar de que hab\\xedan alcanzado un acuerdo con la direcci\\xf3n de que lo har\\xedan si cuando se levantara el secreto del sumario segu\\xedan investigados', u' El PP valenciano tiene intenci\\xf3n de expulsarlos, por lo que la presi\\xf3n sobre Madrid para que act\\xfae contra Barber\\xe1 no ha hecho m\\xe1s que empezar', u'']\n"
     ]
    }
   ],
   "source": [
    "print extract_article('http://www.elmundo.es/espana/2016/03/15/56e7ffa922601d0c038b45ca.html').split('.')"
   ]
  },
  {
   "cell_type": "code",
   "execution_count": null,
   "metadata": {
    "collapsed": false
   },
   "outputs": [],
   "source": [
    "\n",
    "        \n",
    "        \n",
    "        "
   ]
  },
  {
   "cell_type": "code",
   "execution_count": 4,
   "metadata": {
    "collapsed": true
   },
   "outputs": [],
   "source": [
    "def arcticle_crawler(root_url, storage_path, max_articles = 20):\n",
    "    to_visit = []\n",
    "    already_visited = set([])\n",
    "    \n",
    "    to_visit.append(root_url)\n",
    "    while to_visit:\n",
    "        url = to_visit.pop(0)\n",
    "        site = urllib2.urlopen(url)\n",
    "        text = ''\n",
    "        if site.getcode() == 200:\n",
    "            data =''\n",
    "            for l in site:\n",
    "                data = data+l\n",
    "            BS = BeautifulSoup(data)\n",
    "            urls = BS.findall('p')\n",
    "\n",
    "        already_visited.add(url)"
   ]
  }
 ],
 "metadata": {
  "kernelspec": {
   "display_name": "Python 2",
   "language": "python",
   "name": "python2"
  },
  "language_info": {
   "codemirror_mode": {
    "name": "ipython",
    "version": 2
   },
   "file_extension": ".py",
   "mimetype": "text/x-python",
   "name": "python",
   "nbconvert_exporter": "python",
   "pygments_lexer": "ipython2",
   "version": "2.7.6"
  }
 },
 "nbformat": 4,
 "nbformat_minor": 0
}
