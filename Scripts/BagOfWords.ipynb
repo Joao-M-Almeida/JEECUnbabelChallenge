{
 "cells": [
  {
   "cell_type": "code",
   "execution_count": null,
   "metadata": {
    "collapsed": false
   },
   "outputs": [],
   "source": [
    "import pandas as pd\n",
    "import numpy as np\n",
    "import csv\n",
    "from sklearn.feature_extraction.text import  CountVectorizer\n",
    "from sklearn.feature_extraction.text import  TfidfVectorizer\n",
    "from sklearn.decomposition import LatentDirichletAllocation\n",
    "from time import time\n",
    "from nltk.corpus import stopwords\n",
    "import nltk\n",
    "from sklearn.decomposition import TruncatedSVD\n"
   ]
  },
  {
   "cell_type": "code",
   "execution_count": null,
   "metadata": {
    "collapsed": false
   },
   "outputs": [],
   "source": [
    "translations = pd.read_csv(\"../Data/OficialData/training.txt\", sep=\"\\t\", header=None,\n",
    "                           names=['labels','phrases'], quoting=csv.QUOTE_NONE, encoding = 'utf-8')\n",
    "#translations"
   ]
  },
  {
   "cell_type": "code",
   "execution_count": null,
   "metadata": {
    "collapsed": false
   },
   "outputs": [],
   "source": [
    "es_stop = stopwords.words('spanish')"
   ]
  },
  {
   "cell_type": "code",
   "execution_count": null,
   "metadata": {
    "collapsed": false
   },
   "outputs": [],
   "source": [
    "Vectorizer = TfidfVectorizer(use_idf=True, max_df= 0.8, min_df=10, lowercase=True, stop_words=es_stop)"
   ]
  },
  {
   "cell_type": "code",
   "execution_count": null,
   "metadata": {
    "collapsed": false
   },
   "outputs": [],
   "source": [
    "# Fit the vectorizer\n",
    "t0 = time()\n",
    "Vectorizer = Vectorizer.fit(translations['phrases'].values)\n",
    "\n",
    "phrase_matrix = Vectorizer.transform(translations['phrases'].values)\n",
    "print(\"done in %0.3fs.\" % (time() - t0))\n",
    "tf_feature_names = Vectorizer.get_feature_names()"
   ]
  },
  {
   "cell_type": "code",
   "execution_count": null,
   "metadata": {
    "collapsed": false
   },
   "outputs": [],
   "source": [
    "n_wrds = len(Vectorizer.vocabulary_)\n",
    "cols = ['bw' + str(i) for i in range(n_wrds)]\n",
    "\n",
    "BofW_feats = pd.DataFrame(phrase_matrix.todense(), columns=cols)\n",
    "BofW_feats.to_csv('BoW_feats.csv')"
   ]
  },
  {
   "cell_type": "code",
   "execution_count": null,
   "metadata": {
    "collapsed": false
   },
   "outputs": [],
   "source": [
    "data = phrase_matrix\n",
    "t0 = time()\n",
    "svd = TruncatedSVD(n_components=200, random_state=42)\n",
    "svd.fit(data) \n",
    "data = svd.transform(data)\n",
    "print(\"SVD fit done in %0.3fs.\" % (time() - t0))\n",
    "cols = ['bw' + str(i) for i in range(200)]\n",
    "BofW_SVD_feats = pd.DataFrame(data, columns = cols)\n",
    "BofW_SVD_feats.to_csv('BofW_SVD_feats.csv')"
   ]
  }
 ],
 "metadata": {
  "kernelspec": {
   "display_name": "Python 2",
   "language": "python",
   "name": "python2"
  },
  "language_info": {
   "codemirror_mode": {
    "name": "ipython",
    "version": 2
   },
   "file_extension": ".py",
   "mimetype": "text/x-python",
   "name": "python",
   "nbconvert_exporter": "python",
   "pygments_lexer": "ipython2",
   "version": "2.7.6"
  }
 },
 "nbformat": 4,
 "nbformat_minor": 0
}
