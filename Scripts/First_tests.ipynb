{
 "cells": [
  {
   "cell_type": "code",
   "execution_count": null,
   "metadata": {
    "collapsed": false
   },
   "outputs": [],
   "source": [
    "import pandas as pd\n",
    "import numpy as np\n",
    "from post_tag import *\n",
    "import csv\n",
    "from sklearn.feature_extraction.text import  CountVectorizer\n",
    "from sklearn.decomposition import LatentDirichletAllocation\n",
    "import sklearn\n",
    "from time import time\n",
    "from nltk.corpus import stopwords"
   ]
  },
  {
   "cell_type": "code",
   "execution_count": null,
   "metadata": {
    "collapsed": true
   },
   "outputs": [],
   "source": [
    "import pandas as pd\n",
    "import numpy as np\n",
    "from post_tag import *\n",
    "import csv\n",
    "from time import time"
   ]
  },
  {
   "cell_type": "code",
   "execution_count": null,
   "metadata": {
    "collapsed": false
   },
   "outputs": [],
   "source": [
    "# play around with pos tagging\n",
    "translations = pd.read_csv(\"training.txt\", sep=\"\\t\", header=None, names=['labels','phrases'],\n",
    "                           quoting=csv.QUOTE_NONE)\n",
    "trans = translations['phrases'].apply(postag)"
   ]
  },
  {
   "cell_type": "code",
   "execution_count": null,
   "metadata": {
    "collapsed": false
   },
   "outputs": [],
   "source": [
    "test = pd.read_csv(\"example_test.txt\", sep=\"\\t\", header=None,\n",
    "                   names=['labels','phrases'], lineterminator='\\n', quoting=csv.QUOTE_NONE)"
   ]
  },
  {
   "cell_type": "code",
   "execution_count": null,
   "metadata": {
    "collapsed": false
   },
   "outputs": [],
   "source": [
    "t0 = time()\n",
    "test_tagged = test['phrases'].apply(postag)\n",
    "print(\"done in %0.3fs.\"%(time()-t0))"
   ]
  },
  {
   "cell_type": "code",
   "execution_count": null,
   "metadata": {
    "collapsed": false
   },
   "outputs": [],
   "source": [
    "fdist = itertools.permutations(words, 2)\n",
    "permu_names = [f for f in fdist]\n",
    "tags_DF = pd.DataFrame(np.asmatrix(list(test_tagged)),columns = permu_names)\n",
    "\n",
    "test_new = pd.concat([test, tags_DF], axis=1,join_axes=[test.index])\n",
    "test_new.drop('phrases',axis=1, inplace=True)\n",
    "test_new.to_csv(path_or_buf='pos_tags_train_data.csv')"
   ]
  },
  {
   "cell_type": "code",
   "execution_count": null,
   "metadata": {
    "collapsed": false
   },
   "outputs": [],
   "source": [
    "import cProfile\n",
    "cProfile.run('test_tagged = test[\"phrases\"].apply(postag)')"
   ]
  },
  {
   "cell_type": "code",
   "execution_count": null,
   "metadata": {
    "collapsed": true
   },
   "outputs": [],
   "source": [
    "translations = pd.read_csv(\"training.txt\", sep=\"\\t\",\n",
    "                           header=None, names=['labels','phrases'], quoting=csv.QUOTE_NONE)\n",
    "fdist = itertools.permutations(words, 2)\n",
    "permu_names = [f for f in fdist]"
   ]
  },
  {
   "cell_type": "code",
   "execution_count": null,
   "metadata": {
    "collapsed": false
   },
   "outputs": [],
   "source": [
    "trans = translat['phrases'].apply(postag)\n",
    "tags_DF = pd.DataFrame(np.asmatrix(list(trans)),columns = permu_names)\n",
    "\n",
    "test_new = pd.concat([translat, tags_DF], axis=1,join_axes=[translat.index])\n",
    "test_new.drop('phrases',axis=1, inplace=True)\n",
    "test_new.to_csv(path_or_buf='../Data/POStaggedData/TrainingPOSTagged.csv')"
   ]
  }
 ],
 "metadata": {
  "kernelspec": {
   "display_name": "Python 2",
   "language": "python",
   "name": "python2"
  },
  "language_info": {
   "codemirror_mode": {
    "name": "ipython",
    "version": 2
   },
   "file_extension": ".py",
   "mimetype": "text/x-python",
   "name": "python",
   "nbconvert_exporter": "python",
   "pygments_lexer": "ipython2",
   "version": "2.7.6"
  }
 },
 "nbformat": 4,
 "nbformat_minor": 0
}
