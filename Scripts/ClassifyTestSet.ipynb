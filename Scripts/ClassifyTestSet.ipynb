{
 "cells": [
  {
   "cell_type": "code",
   "execution_count": 17,
   "metadata": {
    "collapsed": true
   },
   "outputs": [],
   "source": [
    "#Imports of all necessary Python Packages\n",
    "import sklearn as skl\n",
    "import numpy as np\n",
    "import pandas as pd\n",
    "from time import time\n",
    "import csv\n",
    "\n",
    "#Classifiers\n",
    "from sklearn.svm import SVC\n",
    "\n",
    "from sklearn.discriminant_analysis import LinearDiscriminantAnalysis \n",
    "from sklearn.discriminant_analysis import QuadraticDiscriminantAnalysis\n",
    "\n",
    "from sklearn.decomposition import PCA\n",
    "\n",
    "from sklearn.ensemble import AdaBoostClassifier\n",
    "from sklearn.ensemble import VotingClassifier\n",
    "\n",
    "from sklearn.linear_model import LogisticRegressionCV\n",
    "\n",
    "from sklearn.pipeline import Pipeline\n",
    "from sklearn.grid_search import GridSearchCV\n",
    "\n",
    "#Evaluation\n",
    "from sklearn.metrics import accuracy_score\n",
    "from sklearn.metrics import confusion_matrix\n",
    "from sklearn import cross_validation\n",
    "from sklearn.cross_validation import train_test_split"
   ]
  },
  {
   "cell_type": "code",
   "execution_count": 6,
   "metadata": {
    "collapsed": true
   },
   "outputs": [],
   "source": [
    "man_feats = pd.read_csv('regras.csv', index_col=0)\n"
   ]
  },
  {
   "cell_type": "code",
   "execution_count": 7,
   "metadata": {
    "collapsed": true
   },
   "outputs": [],
   "source": [
    "pos_tags = pd.read_csv('pos_last_try.csv', index_col=0)\n"
   ]
  },
  {
   "cell_type": "code",
   "execution_count": 8,
   "metadata": {
    "collapsed": false
   },
   "outputs": [
    {
     "name": "stdout",
     "output_type": "stream",
     "text": [
      "(20078, 1066)\n",
      "(20078,)\n"
     ]
    }
   ],
   "source": [
    "dataframe = pos_tags\n",
    "dataframe = pd.concat([pos_tags,man_feats], axis=1)\n",
    "# Uncomment to use biling data\n",
    "#dataframe = pd.concat([dataframe, biling_samples], axis=0, ignore_index = True)\n",
    "labels = dataframe['labels'].values\n",
    "data = dataframe.drop('labels', axis=1).values\n",
    "print data.shape\n",
    "print labels.shape"
   ]
  },
  {
   "cell_type": "code",
   "execution_count": 20,
   "metadata": {
    "collapsed": false
   },
   "outputs": [
    {
     "name": "stdout",
     "output_type": "stream",
     "text": [
      "done in 23.854s.\n"
     ]
    }
   ],
   "source": [
    "t0 = time()\n",
    "# Feature Extraction\n",
    "pca = PCA(n_components = 900)\n",
    "data_decomposed = pca.fit_transform(data)\n",
    "print(\"done in %0.3fs.\" % (time() - t0))"
   ]
  },
  {
   "cell_type": "code",
   "execution_count": 10,
   "metadata": {
    "collapsed": true
   },
   "outputs": [],
   "source": [
    "estimators = [('lda', LinearDiscriminantAnalysis()),  ('logReg', LogisticRegressionCV()),\n",
    "              ('adaB', AdaBoostClassifier(base_estimator=None, learning_rate=1, n_estimators=50))]\n",
    "classfVC = VotingClassifier(estimators= estimators, voting='hard')"
   ]
  },
  {
   "cell_type": "code",
   "execution_count": 21,
   "metadata": {
    "collapsed": false
   },
   "outputs": [
    {
     "name": "stdout",
     "output_type": "stream",
     "text": [
      "Score of Classifier: 0.546812749004\n",
      "done in 187.201s.\n"
     ]
    }
   ],
   "source": [
    "classf = classfVC\n",
    "train_data, test_data, train_labels, test_labels = train_test_split(data_decomposed,\n",
    "                                                                    labels, test_size=0.20, random_state=42)\n",
    "\n",
    "t0 = time()\n",
    "classf.fit(train_data,train_labels)\n",
    "print \"Score of Classifier: \" + str(classf.score(test_data,test_labels))\n",
    "print(\"done in %0.3fs.\" % (time() - t0))"
   ]
  },
  {
   "cell_type": "code",
   "execution_count": 23,
   "metadata": {
    "collapsed": true
   },
   "outputs": [],
   "source": [
    "# Train final Classifier:\n",
    "\n",
    "classf = classfVC\n",
    "#classf.fit(data,labels)"
   ]
  },
  {
   "cell_type": "code",
   "execution_count": 42,
   "metadata": {
    "collapsed": false
   },
   "outputs": [],
   "source": [
    "test = pd.read_csv(\"test_blind.txt\", sep=\"\\t\", header=None, names=['labels','phrases'],\n",
    "                   lineterminator='\\n', quoting=csv.QUOTE_NONE)\n"
   ]
  },
  {
   "cell_type": "code",
   "execution_count": 43,
   "metadata": {
    "collapsed": false
   },
   "outputs": [],
   "source": [
    "test_man_feats = pd.read_csv('test_man.csv', index_col=0)\n",
    "test_pos_tags = pd.read_csv('test_data.csv', index_col=0)\n",
    "#test_pos_tags.apply(sum)"
   ]
  },
  {
   "cell_type": "code",
   "execution_count": 44,
   "metadata": {
    "collapsed": false
   },
   "outputs": [
    {
     "name": "stdout",
     "output_type": "stream",
     "text": [
      "(3220, 1066)\n",
      "(3220, 900)\n"
     ]
    }
   ],
   "source": [
    "dataframe = pd.concat([test_pos_tags,test_man_feats], axis=1)\n",
    "# Uncomment to use biling data\n",
    "#dataframe = pd.concat([dataframe, biling_samples], axis=0, ignore_index = True)\n",
    "test_data = dataframe.drop('labels', axis=1).values\n",
    "print test_data.shape\n",
    "test_data_decomposed = pca.transform(test_data)\n",
    "print test_data_decomposed.shape\n"
   ]
  },
  {
   "cell_type": "code",
   "execution_count": 45,
   "metadata": {
    "collapsed": false
   },
   "outputs": [],
   "source": [
    "testlabs = classf.predict(test_data_decomposed)\n",
    "test.labels = test['labels'] = testlabs\n",
    "test.to_csv(\"test_output.txt\", sep=\"\\t\", header=False, index=False, quoting=csv.QUOTE_NONE, enconding = 'utf-8')"
   ]
  },
  {
   "cell_type": "code",
   "execution_count": 49,
   "metadata": {
    "collapsed": false
   },
   "outputs": [
    {
     "data": {
      "text/plain": [
       "0.47857142857142859"
      ]
     },
     "execution_count": 49,
     "metadata": {},
     "output_type": "execute_result"
    }
   ],
   "source": [
    "sum(testlabs)*1.0/3220\n"
   ]
  },
  {
   "cell_type": "code",
   "execution_count": null,
   "metadata": {
    "collapsed": true
   },
   "outputs": [],
   "source": []
  },
  {
   "cell_type": "code",
   "execution_count": null,
   "metadata": {
    "collapsed": true
   },
   "outputs": [],
   "source": []
  }
 ],
 "metadata": {
  "kernelspec": {
   "display_name": "Python 2",
   "language": "python",
   "name": "python2"
  },
  "language_info": {
   "codemirror_mode": {
    "name": "ipython",
    "version": 2
   },
   "file_extension": ".py",
   "mimetype": "text/x-python",
   "name": "python",
   "nbconvert_exporter": "python",
   "pygments_lexer": "ipython2",
   "version": "2.7.6"
  }
 },
 "nbformat": 4,
 "nbformat_minor": 0
}
