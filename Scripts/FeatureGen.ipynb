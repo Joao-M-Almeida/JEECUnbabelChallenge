{
 "cells": [
  {
   "cell_type": "code",
   "execution_count": null,
   "metadata": {
    "collapsed": true
   },
   "outputs": [],
   "source": [
    "import pandas as pd\n",
    "import numpy as np\n",
    "import csv\n",
    "import re"
   ]
  },
  {
   "cell_type": "code",
   "execution_count": null,
   "metadata": {
    "collapsed": false
   },
   "outputs": [],
   "source": [
    "def countPunct(phrase):\n",
    "    apost = 0\n",
    "    quest = 0\n",
    "    notquest=0\n",
    "    excl=0\n",
    "    notexcl=0\n",
    "    for x in phrase:\n",
    "        if x == \"?\":\n",
    "            quest +=1\n",
    "        if x == u\"¿\":\n",
    "            notquest +=1\n",
    "        if x == \"'\":\n",
    "            apost +=1\n",
    "        if x == \"!\":\n",
    "            excl +=1\n",
    "        if x == u'¡':\n",
    "            notexcl +=1\n",
    "        \n",
    "    return [apost, quest, notquest, excl, notexcl]\n",
    "\n"
   ]
  },
  {
   "cell_type": "code",
   "execution_count": null,
   "metadata": {
    "collapsed": false
   },
   "outputs": [],
   "source": [
    "translations = pd.read_csv(\"../Data/OficialData/training.txt\", sep=\"\\t\", header=None, names=['labels','phrases'], \n",
    "                           encoding = 'utf-8', quoting=csv.QUOTE_NONE)\n",
    "#translations"
   ]
  },
  {
   "cell_type": "code",
   "execution_count": null,
   "metadata": {
    "collapsed": false
   },
   "outputs": [],
   "source": [
    "biling_data = pd.read_csv('../Data/External_Data/BilingualNews.csv', index_col = 0,encoding = 'utf-8')\n",
    "#biling_data"
   ]
  },
  {
   "cell_type": "code",
   "execution_count": null,
   "metadata": {
    "collapsed": true
   },
   "outputs": [],
   "source": [
    "test = pd.read_csv(\"../Data/OficialData/test_blind.txt\", sep=\"\\t\", header=None, names=['labels','phrases'],\n",
    "                   lineterminator='\\n', quoting=csv.QUOTE_NONE, encoding = 'utf-8')\n"
   ]
  },
  {
   "cell_type": "code",
   "execution_count": null,
   "metadata": {
    "collapsed": false
   },
   "outputs": [],
   "source": [
    "Manual_Features = pd.DataFrame(np.asmatrix(list(translations['phrases'].apply(countPunct))),\n",
    "             columns=[\"apost\", \"quest\", \"notquest\", \"excl\", \"notexcl\"])"
   ]
  },
  {
   "cell_type": "code",
   "execution_count": null,
   "metadata": {
    "collapsed": false
   },
   "outputs": [],
   "source": [
    "biling_man_feats = pd.DataFrame(np.asmatrix(list(biling_data['phrases'].apply(countPunct))),\n",
    "             columns=[\"apost\", \"quest\", \"notquest\", \"excl\", \"notexcl\"])\n"
   ]
  },
  {
   "cell_type": "code",
   "execution_count": null,
   "metadata": {
    "collapsed": false
   },
   "outputs": [],
   "source": [
    "test_feats = pd.DataFrame(np.asmatrix(list(test['phrases'].apply(countPunct))),\n",
    "             columns=[\"apost\", \"quest\", \"notquest\", \"excl\", \"notexcl\"])\n",
    "\n"
   ]
  },
  {
   "cell_type": "code",
   "execution_count": null,
   "metadata": {
    "collapsed": false
   },
   "outputs": [],
   "source": [
    "#http://community.languagetool.org/rule/show/PP_SE?lang=es&subId=1\n",
    "\n",
    "def regra_PP_SE(phrase):\n",
    "    match = re.search(\" te se | me se \",phrase, flags=re.IGNORECASE)\n",
    "    if match:\n",
    "        #print phrase\n",
    "        return 1\n",
    "    else:\n",
    "        return 0\n",
    "    "
   ]
  },
  {
   "cell_type": "code",
   "execution_count": null,
   "metadata": {
    "collapsed": true
   },
   "outputs": [],
   "source": [
    "#http://community.languagetool.org/rule/show/MAS_BUENA?lang=es&subId=1\n",
    "def regra_MAS_BUENA(phrase):\n",
    "    match = re.search(\" más bueno | más malo \",phrase, flags=re.IGNORECASE)\n",
    "    if match:\n",
    "        #print phrase\n",
    "        return 1\n",
    "    else:\n",
    "        return 0\n",
    "    "
   ]
  },
  {
   "cell_type": "code",
   "execution_count": null,
   "metadata": {
    "collapsed": true
   },
   "outputs": [],
   "source": [
    "#http://community.languagetool.org/rule/show/SI_QUIERA?lang=es&subId=1\n",
    "def regra_SI_QUIERA(phrase):\n",
    "    match = re.search(\" si quiera \",phrase, flags=re.IGNORECASE)\n",
    "    if match:\n",
    "        #print phrase\n",
    "        return 1\n",
    "    else:\n",
    "        return 0"
   ]
  },
  {
   "cell_type": "code",
   "execution_count": null,
   "metadata": {
    "collapsed": true
   },
   "outputs": [],
   "source": [
    "# http://community.languagetool.org/rule/show/SIN_ENCAMBIO?lang=es&subId=1\n",
    "def regra_SIN_ENCAMBIO(phrase):\n",
    "    match = re.search(\" sin en cambio \",phrase, flags=re.IGNORECASE)\n",
    "    if match:\n",
    "        #print phrase\n",
    "        return 1\n",
    "    else:\n",
    "        return 0"
   ]
  },
  {
   "cell_type": "code",
   "execution_count": null,
   "metadata": {
    "collapsed": true
   },
   "outputs": [],
   "source": [
    "# http://community.languagetool.org/rule/show/EN_BASE_A?lang=es&subId=1\n",
    "def regra_EN_BASE_A(phrase):\n",
    "    match = re.search(\" en base a \",phrase, flags=re.IGNORECASE)\n",
    "    if match:\n",
    "        #print phrase\n",
    "        return 1\n",
    "    else:\n",
    "        return 0"
   ]
  },
  {
   "cell_type": "code",
   "execution_count": null,
   "metadata": {
    "collapsed": true
   },
   "outputs": [],
   "source": [
    "# http://community.languagetool.org/rule/show/DE_GRATIS?lang=es&subId=1\n",
    "def regra_DE_GRATIS(phrase):\n",
    "    match = re.search(\" de gratis \",phrase, flags=re.IGNORECASE)\n",
    "    if match:\n",
    "        #print phrase\n",
    "        return 1\n",
    "    else:\n",
    "        return 0"
   ]
  },
  {
   "cell_type": "code",
   "execution_count": null,
   "metadata": {
    "collapsed": false
   },
   "outputs": [],
   "source": [
    "pp_se = pd.DataFrame(np.asmatrix(list(translations['phrases'].apply(regra_PP_SE))).T,\n",
    "             columns=[\"Rpp_se\"])\n",
    "mas_buena = pd.DataFrame(np.asmatrix(list(translations['phrases'].apply(regra_MAS_BUENA))).T,\n",
    "             columns=[\"Rmas_buena\"])\n",
    "si_quiera = pd.DataFrame(np.asmatrix(list(translations['phrases'].apply(regra_SI_QUIERA))).T,\n",
    "             columns=[\"Rsi_quiera\"])\n",
    "sin_encambio = pd.DataFrame(np.asmatrix(list(translations['phrases'].apply(regra_SIN_ENCAMBIO))).T,\n",
    "             columns=[\"Rsin_encambio\"])\n",
    "en_base_a = pd.DataFrame(np.asmatrix(list(translations['phrases'].apply(regra_EN_BASE_A))).T,\n",
    "             columns=[\"Ren_base_a\"])"
   ]
  },
  {
   "cell_type": "code",
   "execution_count": null,
   "metadata": {
    "collapsed": false
   },
   "outputs": [],
   "source": [
    "Manual_Features = pd.concat([Manual_Features, pp_se, mas_buena, si_quiera, sin_encambio, en_base_a], axis = 1)\n",
    "\n",
    "Manual_Features.to_csv('../Data/ManualFeaturesData/TrainingManFeats.csv')\n",
    "# Read like this: pd.read_csv('../Data/ManualFeaturesData/TrainingManFeats.csv', index_col=0)"
   ]
  },
  {
   "cell_type": "code",
   "execution_count": null,
   "metadata": {
    "collapsed": true
   },
   "outputs": [],
   "source": [
    "Bpp_se = pd.DataFrame(np.asmatrix(list(biling_data['phrases'].apply(regra_PP_SE))).T,\n",
    "             columns=[\"Rpp_se\"])\n",
    "Bmas_buena = pd.DataFrame(np.asmatrix(list(biling_data['phrases'].apply(regra_MAS_BUENA))).T,\n",
    "             columns=[\"Rmas_buena\"])\n",
    "Bsi_quiera = pd.DataFrame(np.asmatrix(list(biling_data['phrases'].apply(regra_SI_QUIERA))).T,\n",
    "             columns=[\"Rsi_quiera\"])\n",
    "Bsin_encambio = pd.DataFrame(np.asmatrix(list(biling_data['phrases'].apply(regra_SIN_ENCAMBIO))).T,\n",
    "             columns=[\"Rsin_encambio\"])\n",
    "Ben_base_a = pd.DataFrame(np.asmatrix(list(biling_data['phrases'].apply(regra_EN_BASE_A))).T,\n",
    "             columns=[\"Ren_base_a\"])"
   ]
  },
  {
   "cell_type": "code",
   "execution_count": null,
   "metadata": {
    "collapsed": false
   },
   "outputs": [],
   "source": [
    "biling_man_feats = pd.concat([biling_man_feats, Bpp_se, Bmas_buena, Bsi_quiera,\n",
    "                              Bsin_encambio, Ben_base_a], axis = 1)\n",
    "biling_man_feats.to_csv('../Data/ManualFeaturesData/biling_man_feats.csv')"
   ]
  },
  {
   "cell_type": "code",
   "execution_count": null,
   "metadata": {
    "collapsed": true
   },
   "outputs": [],
   "source": [
    "Tpp_se = pd.DataFrame(np.asmatrix(list(test['phrases'].apply(regra_PP_SE))).T,\n",
    "             columns=[\"Tpp_se\"])\n",
    "Tmas_buena = pd.DataFrame(np.asmatrix(list(test['phrases'].apply(regra_MAS_BUENA))).T,\n",
    "             columns=[\"Tmas_buena\"])\n",
    "Tsi_quiera = pd.DataFrame(np.asmatrix(list(test['phrases'].apply(regra_SI_QUIERA))).T,\n",
    "             columns=[\"Tsi_quiera\"])\n",
    "Tsin_encambio = pd.DataFrame(np.asmatrix(list(test['phrases'].apply(regra_SIN_ENCAMBIO))).T,\n",
    "             columns=[\"Tsin_encambio\"])\n",
    "Ten_base_a = pd.DataFrame(np.asmatrix(list(test['phrases'].apply(regra_EN_BASE_A))).T,\n",
    "             columns=[\"Ten_base_a\"])"
   ]
  },
  {
   "cell_type": "code",
   "execution_count": null,
   "metadata": {
    "collapsed": false
   },
   "outputs": [],
   "source": [
    "test_man = pd.concat([test_feats, Tpp_se, Tmas_buena, Tsi_quiera, Tsin_encambio, Ten_base_a], axis = 1)\n",
    "test_feats.to_csv('../Data/ManualFeaturesData/test_man.csv')"
   ]
  }
 ],
 "metadata": {
  "kernelspec": {
   "display_name": "Python 2",
   "language": "python",
   "name": "python2"
  },
  "language_info": {
   "codemirror_mode": {
    "name": "ipython",
    "version": 2
   },
   "file_extension": ".py",
   "mimetype": "text/x-python",
   "name": "python",
   "nbconvert_exporter": "python",
   "pygments_lexer": "ipython2",
   "version": "2.7.6"
  }
 },
 "nbformat": 4,
 "nbformat_minor": 0
}
