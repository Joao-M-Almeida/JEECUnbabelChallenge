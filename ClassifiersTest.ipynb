{
 "cells": [
  {
   "cell_type": "code",
   "execution_count": null,
   "metadata": {
    "collapsed": false
   },
   "outputs": [],
   "source": [
    "#Imports of all necessary Python Packages\n",
    "import sklearn as skl\n",
    "import numpy as np\n",
    "import pandas as pd\n",
    "from time import time\n",
    "\n",
    "#Classifiers\n",
    "from sklearn.svm import SVC\n",
    "from sklearn.svm import NuSVC\n",
    "\n",
    "from sklearn.discriminant_analysis import LinearDiscriminantAnalysis \n",
    "from sklearn.discriminant_analysis import QuadraticDiscriminantAnalysis\n",
    "\n",
    "from sklearn.decomposition import PCA\n",
    "\n",
    "from sklearn.dummy import DummyClassifier\n",
    "\n",
    "from sklearn.neighbors import KNeighborsClassifier\n",
    "\n",
    "from sklearn.tree import DecisionTreeClassifier\n",
    "\n",
    "from sklearn.ensemble import AdaBoostClassifier\n",
    "from sklearn.ensemble import RandomForestClassifier\n",
    "\n",
    "from sklearn.linear_model import LogisticRegressionCV\n",
    "\n",
    "\n",
    "#Evaluation\n",
    "\n",
    "from sklearn.metrics import accuracy_score\n",
    "from sklearn.metrics import confusion_matrix\n",
    "\n",
    "from sklearn import cross_validation\n",
    "from sklearn.cross_validation import train_test_split"
   ]
  },
  {
   "cell_type": "code",
   "execution_count": null,
   "metadata": {
    "collapsed": false
   },
   "outputs": [],
   "source": [
    "#Here import the data to classify\n",
    "\n",
    "pos_tags = pd.read_csv('pos_tags_train_data.csv', index_col=0)\n",
    "pos_tags \n",
    "labels = pos_tags['labels'].values\n",
    "data = pos_tags.drop('labels', axis=1).values\n",
    "print data.shape\n",
    "print labels.shape"
   ]
  },
  {
   "cell_type": "code",
   "execution_count": null,
   "metadata": {
    "collapsed": false
   },
   "outputs": [],
   "source": [
    "t0 = time()\n",
    "# Feature Extraction\n",
    "pca = PCA(n_components = 500)\n",
    "data_decomposed = pca.fit_transform(data)\n",
    "print(\"done in %0.3fs.\" % (time() - t0))"
   ]
  },
  {
   "cell_type": "code",
   "execution_count": null,
   "metadata": {
    "collapsed": false
   },
   "outputs": [],
   "source": [
    "#Generate a Few of the most comon Scikit-Learn Classifiers\n",
    "#SVM\n",
    "classfSVM = SVC(C=1, kernel='rbf', gamma='auto', tol=1e-3) #53%\n",
    "#SVM with control of the %(nu) of support vectors \n",
    "classfNuSVM = NuSVC(nu=0.5, kernel='rbf', gamma='auto', tol=1e-3)\n",
    "#LDA\n",
    "classfLDA = LinearDiscriminantAnalysis()\n",
    "#QDA\n",
    "classfQDA = QuadraticDiscriminantAnalysis()\n",
    "#KNN\n",
    "classfKNN = KNeighborsClassifier(n_neighbors=3, n_jobs=-1)#34%\n",
    "#DecisionTree\n",
    "classfDecisionTree = DecisionTreeClassifier()\n",
    "#AdaBoost\n",
    "classfAdaBoost = AdaBoostClassifier(base_estimator=None, learning_rate=1, n_estimators=50)\n",
    "#RandomForest\n",
    "classfRandForest = RandomForestClassifier(n_estimators=30, n_jobs=-1)\n",
    "\n",
    "#LogisticRegressionCV\n",
    "classfLogRegressCV = LogisticRegressionCV(cv = 5, n_jobs=-1)\n",
    "\n",
    "classf_lst = [classfLDA, classfQDA, classfDecisionTree, classfAdaBoost, classfRandForest]"
   ]
  },
  {
   "cell_type": "code",
   "execution_count": null,
   "metadata": {
    "collapsed": false
   },
   "outputs": [],
   "source": [
    "#Test classifier on all data or preferably on a Test set:\n",
    "#DON'T trust these results, there is an high chance of overfitting\n",
    "#Use ONLY to get a feel of the time Cross-Validation will take\n",
    "\n",
    "classf = classfKNN\n",
    "train_data, test_data, train_labels, test_labels = train_test_split(data_decomposed,\n",
    "                                                                    labels, test_size=0.20, random_state=42)\n",
    "\n",
    "t0 = time()\n",
    "classf.fit(train_data,train_labels)\n",
    "print \"Score of Classifier: \" + str(classf.score(test_data,test_labels))\n",
    "print(\"done in %0.3fs.\" % (time() - t0))"
   ]
  },
  {
   "cell_type": "code",
   "execution_count": null,
   "metadata": {
    "collapsed": false
   },
   "outputs": [],
   "source": [
    "train_data, test_data, train_labels, test_labels = train_test_split(data_decomposed,\n",
    "                                                                    labels, test_size=0.20, random_state=42)\n",
    "for classf in classf_lst:\n",
    "    print classf\n",
    "    t0 = time()\n",
    "    classf.fit(train_data,train_labels)\n",
    "    print \"Score of Classifier: \" + str(classf.score(test_data,test_labels))\n",
    "    print(\"done in %0.3fs.\" % (time() - t0))"
   ]
  },
  {
   "cell_type": "code",
   "execution_count": null,
   "metadata": {
    "collapsed": false
   },
   "outputs": [],
   "source": [
    "# Analyze Confusion Matrix\n",
    "#test_labels = labels\n",
    "#test_data = data\n",
    "#train_data = data\n",
    "#train_labels\n",
    "\n",
    "#classf = classfSVM\n",
    "#classf.fit(train_data)\n",
    "predicted_labels = classf.predict(test_data)\n",
    "confusion_matrix(test_labels, predicted_labels)"
   ]
  },
  {
   "cell_type": "code",
   "execution_count": null,
   "metadata": {
    "collapsed": false
   },
   "outputs": [],
   "source": [
    "# Select parameters to use in Cross-Validation\n",
    "classf_cv = classfKNN\n",
    "data_cv = data_decomposed\n",
    "N_CV = 10\n",
    "\n",
    "# Cross Validation\n",
    "t0 = time()\n",
    "scores = cross_validation.cross_val_score(classf_cv,data_cv,labels, n_jobs=-1, cv = N_CV)\n",
    "print \"Scores: \"\n",
    "for i,score in enumerate(scores):\n",
    "    print '\\t' + str(i) + ':\\t' + str(score) \n",
    "print \"\\nCrossval Final score: \"+ str(sum(scores)/N_CV)\n",
    "print(\"\\nCross val done in %0.3fs.\" % (time() - t0))"
   ]
  },
  {
   "cell_type": "code",
   "execution_count": null,
   "metadata": {
    "collapsed": false
   },
   "outputs": [],
   "source": []
  }
 ],
 "metadata": {
  "kernelspec": {
   "display_name": "Python 2",
   "language": "python",
   "name": "python2"
  },
  "language_info": {
   "codemirror_mode": {
    "name": "ipython",
    "version": 2
   },
   "file_extension": ".py",
   "mimetype": "text/x-python",
   "name": "python",
   "nbconvert_exporter": "python",
   "pygments_lexer": "ipython2",
   "version": "2.7.6"
  }
 },
 "nbformat": 4,
 "nbformat_minor": 0
}
