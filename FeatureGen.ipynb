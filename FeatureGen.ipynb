{
 "cells": [
  {
   "cell_type": "code",
   "execution_count": null,
   "metadata": {
    "collapsed": true
   },
   "outputs": [],
   "source": [
    "import pandas as pd\n",
    "import numpy as np\n",
    "import csv\n",
    "import re"
   ]
  },
  {
   "cell_type": "code",
   "execution_count": null,
   "metadata": {
    "collapsed": false
   },
   "outputs": [],
   "source": [
    "def countApost(phrase):\n",
    "    res = 0\n",
    "    for x in phrase:\n",
    "        if x == \"'\":\n",
    "            res +=1\n",
    "    return res"
   ]
  },
  {
   "cell_type": "code",
   "execution_count": null,
   "metadata": {
    "collapsed": false
   },
   "outputs": [],
   "source": [
    "def countPunct(phrase):\n",
    "    apost = 0\n",
    "    quest = 0\n",
    "    notquest=0\n",
    "    excl=0\n",
    "    notexcl=0\n",
    "    for x in phrase:\n",
    "        if x == \"?\":\n",
    "            quest +=1\n",
    "        if x == \"¿\":\n",
    "            notquest +=1\n",
    "        if x == \"'\":\n",
    "            apost +=1\n",
    "        if x == \"!\":\n",
    "            excl +=1\n",
    "        if x == \"¡\":\n",
    "            notexcl +=1\n",
    "        \n",
    "    return [apost, quest, notquest, excl, notexcl]\n",
    "\n"
   ]
  },
  {
   "cell_type": "code",
   "execution_count": null,
   "metadata": {
    "collapsed": false
   },
   "outputs": [],
   "source": [
    "translations = pd.read_csv(\"training.txt\", sep=\"\\t\", header=None, names=['labels','phrases'], quoting=csv.QUOTE_NONE)\n",
    "translations"
   ]
  },
  {
   "cell_type": "code",
   "execution_count": null,
   "metadata": {
    "collapsed": false
   },
   "outputs": [],
   "source": [
    "biling_data = pd.read_csv('new_data_samples.csv', index_col = 0)\n",
    "biling_data"
   ]
  },
  {
   "cell_type": "code",
   "execution_count": null,
   "metadata": {
    "collapsed": false
   },
   "outputs": [],
   "source": [
    "#translations_new=pd.concat([translations, translations['phrases'].apply(countApost), translations['phrases'].apply(len)], axis=1, )\n",
    "#translations_new.columns = ['labels', 'phrases', 'apost', 'len']\n",
    "#translations_new"
   ]
  },
  {
   "cell_type": "code",
   "execution_count": null,
   "metadata": {
    "collapsed": false
   },
   "outputs": [],
   "source": [
    "#translations_new=pd.concat([translations, translations['phrases'].apply(countApost)], axis=1, )\n",
    "#translations_new.columns = ['labels', 'phrases', 'apost']\n",
    "#translations_new\n",
    "\n",
    "#num_machine_0 = 0\n",
    "#num_machine_1 = 0\n",
    "#num_person_0 = 0\n",
    "#num_person_1 = 0\n",
    "#for k in range(len(translations_new)): # para cada frase\n",
    "#    if translations_new.iloc[k]['labels'] == 0 and translations_new.iloc[k]['apost'] == 1:\n",
    "#       aux_num_machine_1+=1\n",
    "#   if translations_new.iloc[k]['labels'] == 0 and translations_new.iloc[k]['apost'] == 0:\n",
    "#       aux_num_machine_0+=1\n",
    "#   if translations_new.iloc[k]['labels'] == 1 and translations_new.iloc[k]['apost'] == 1:\n",
    "#       aux_num_person_1+=1\n",
    "#   if translations_new.iloc[k]['labels'] == 1 and translations_new.iloc[k]['apost'] == 0:\n",
    "#       aux_num_person_0+=1\n",
    "#   if aux_num_machine_1 != 0:\n",
    "        \n",
    "    \n",
    "#print (num_machine_1/(num_machine_1 + num_machine_0), num_person_1/(num_person_1 + num_person_0))\n"
   ]
  },
  {
   "cell_type": "code",
   "execution_count": null,
   "metadata": {
    "collapsed": false
   },
   "outputs": [],
   "source": [
    "#(num_machine_0*100.0/(num_machine_1 + num_machine_0), num_person_0*100.0/(num_person_1 + num_person_0))"
   ]
  },
  {
   "cell_type": "code",
   "execution_count": null,
   "metadata": {
    "collapsed": false
   },
   "outputs": [],
   "source": [
    "#translations_new=pd.concat([translations, translations['phrases'].apply(countApost)], axis=1, )\n",
    "#translations_new.columns = ['labels', 'phrases', 'apost']\n",
    "#translations_new\n",
    "\n",
    "#num_machine_0 = 0 # frase traduzida por maquina com numero par de apostrofes != 0\n",
    "#num_machine_1 = 0 # frase traduzida por maquina com numero impar de apostrofes != 0\n",
    "#num_person_0 = 0 # frase traduzida por pessoa com numero par de apostrofes != 0\n",
    "#num_person_1 = 0 # frase traduzida por pessoa com numero impar de apostrofes != 0\n",
    "\n",
    "#for k in range(len(translations_new)): # para cada frase\n",
    "#    if translations_new.iloc[k]['apost'] != 0:\n",
    "#        if translations_new.iloc[k]['labels'] == 0 and translations_new.iloc[k]['apost'] % 2 == 1:\n",
    "#            num_machine_1+=1\n",
    "#        if translations_new.iloc[k]['labels'] == 0 and translations_new.iloc[k]['apost'] % 2== 0:\n",
    "#            num_machine_0+=1\n",
    "#        if translations_new.iloc[k]['labels'] == 1 and translations_new.iloc[k]['apost'] % 2== 1:\n",
    "#            num_person_1+=1\n",
    "#        if translations_new.iloc[k]['labels'] == 1 and translations_new.iloc[k]['apost'] % 2== 0:\n",
    "#            num_person_0+=1\n",
    "    \n",
    "#print (num_machine_1/(num_machine_1 + num_machine_0), num_person_1/(num_person_1 + num_person_0))"
   ]
  },
  {
   "cell_type": "code",
   "execution_count": null,
   "metadata": {
    "collapsed": false
   },
   "outputs": [],
   "source": [
    "#num_machine_1*100.0/(num_machine_1 + num_person_1)\n",
    "#num_person_1*100.0/(num_machine_1 + num_person_1)\n",
    "\n",
    "#num_machine_1 + num_person_1"
   ]
  },
  {
   "cell_type": "code",
   "execution_count": null,
   "metadata": {
    "collapsed": false
   },
   "outputs": [],
   "source": [
    "new_feats = pd.DataFrame(np.asmatrix(list(translations['phrases'].apply(countPunct))),\n",
    "             columns=[\"apost\", \"quest\", \"notquest\", \"excl\", \"notexcl\"])\n",
    "\n",
    "new_feats.to_csv('new_feats.csv')\n",
    "# Read like this: pd.read_csv('new_feats.csv', index_col=0)"
   ]
  },
  {
   "cell_type": "code",
   "execution_count": null,
   "metadata": {
    "collapsed": false
   },
   "outputs": [],
   "source": [
    "biling_man_feats = pd.DataFrame(np.asmatrix(list(biling_data['phrases'].apply(countPunct))),\n",
    "             columns=[\"apost\", \"quest\", \"notquest\", \"excl\", \"notexcl\"])\n",
    "\n",
    "biling_man_feats.to_csv('biling_man_feats.csv')"
   ]
  },
  {
   "cell_type": "code",
   "execution_count": null,
   "metadata": {
    "collapsed": true
   },
   "outputs": [],
   "source": [
    "\n"
   ]
  },
  {
   "cell_type": "code",
   "execution_count": null,
   "metadata": {
    "collapsed": false
   },
   "outputs": [],
   "source": [
    "translations.iloc[234]['phrases']"
   ]
  },
  {
   "cell_type": "code",
   "execution_count": null,
   "metadata": {
    "collapsed": false
   },
   "outputs": [],
   "source": [
    "#http://community.languagetool.org/rule/show/PP_SE?lang=es&subId=1\n",
    "\n",
    "def regra_PP_SE(phrase):\n",
    "    match = re.search(\" te se | me se \",phrase, flags=re.IGNORECASE)\n",
    "    if match:\n",
    "        #print phrase\n",
    "        return 1\n",
    "    else:\n",
    "        return 0\n",
    "    "
   ]
  },
  {
   "cell_type": "code",
   "execution_count": null,
   "metadata": {
    "collapsed": true
   },
   "outputs": [],
   "source": [
    "#http://community.languagetool.org/rule/show/MAS_BUENA?lang=es&subId=1\n",
    "def regra_MAS_BUENA(phrase):\n",
    "    match = re.search(\" más bueno | más malo \",phrase, flags=re.IGNORECASE)\n",
    "    if match:\n",
    "        #print phrase\n",
    "        return 1\n",
    "    else:\n",
    "        return 0\n",
    "    "
   ]
  },
  {
   "cell_type": "code",
   "execution_count": null,
   "metadata": {
    "collapsed": true
   },
   "outputs": [],
   "source": [
    "#http://community.languagetool.org/rule/show/SI_QUIERA?lang=es&subId=1\n",
    "def regra_SI_QUIERA(phrase):\n",
    "    match = re.search(\" si quiera \",phrase, flags=re.IGNORECASE)\n",
    "    if match:\n",
    "        #print phrase\n",
    "        return 1\n",
    "    else:\n",
    "        return 0"
   ]
  },
  {
   "cell_type": "code",
   "execution_count": null,
   "metadata": {
    "collapsed": true
   },
   "outputs": [],
   "source": [
    "# http://community.languagetool.org/rule/show/SIN_ENCAMBIO?lang=es&subId=1\n",
    "def regra_SIN_ENCAMBIO(phrase):\n",
    "    match = re.search(\" sin en cambio \",phrase, flags=re.IGNORECASE)\n",
    "    if match:\n",
    "        #print phrase\n",
    "        return 1\n",
    "    else:\n",
    "        return 0"
   ]
  },
  {
   "cell_type": "code",
   "execution_count": null,
   "metadata": {
    "collapsed": true
   },
   "outputs": [],
   "source": [
    "# http://community.languagetool.org/rule/show/EN_BASE_A?lang=es&subId=1\n",
    "def regra_EN_BASE_A(phrase):\n",
    "    match = re.search(\" en base a \",phrase, flags=re.IGNORECASE)\n",
    "    if match:\n",
    "        #print phrase\n",
    "        return 1\n",
    "    else:\n",
    "        return 0"
   ]
  },
  {
   "cell_type": "code",
   "execution_count": null,
   "metadata": {
    "collapsed": true
   },
   "outputs": [],
   "source": [
    "# http://community.languagetool.org/rule/show/DE_GRATIS?lang=es&subId=1\n",
    "def regra_DE_GRATIS(phrase):\n",
    "    match = re.search(\" de gratis \",phrase, flags=re.IGNORECASE)\n",
    "    if match:\n",
    "        #print phrase\n",
    "        return 1\n",
    "    else:\n",
    "        return 0"
   ]
  },
  {
   "cell_type": "code",
   "execution_count": null,
   "metadata": {
    "collapsed": false
   },
   "outputs": [],
   "source": [
    "pp_se = pd.DataFrame(np.asmatrix(list(translations['phrases'].apply(regra_PP_SE))).T,\n",
    "             columns=[\"Rpp_se\"])\n",
    "mas_buena = pd.DataFrame(np.asmatrix(list(translations['phrases'].apply(regra_MAS_BUENA))).T,\n",
    "             columns=[\"Rmas_buena\"])\n",
    "si_quiera = pd.DataFrame(np.asmatrix(list(translations['phrases'].apply(regra_SI_QUIERA))).T,\n",
    "             columns=[\"Rsi_quiera\"])\n",
    "sin_encambio = pd.DataFrame(np.asmatrix(list(translations['phrases'].apply(regra_SIN_ENCAMBIO))).T,\n",
    "             columns=[\"Rsin_encambio\"])\n",
    "en_base_a = pd.DataFrame(np.asmatrix(list(translations['phrases'].apply(regra_EN_BASE_A))).T,\n",
    "             columns=[\"Ren_base_a\"])"
   ]
  },
  {
   "cell_type": "code",
   "execution_count": null,
   "metadata": {
    "collapsed": false
   },
   "outputs": [],
   "source": [
    "pd_regras = pd.concat([new_feats, pp_se, mas_buena, si_quiera, sin_encambio, en_base_a], axis = 1)\n",
    "pd_regras.to_csv('regras.csv')"
   ]
  },
  {
   "cell_type": "code",
   "execution_count": null,
   "metadata": {
    "collapsed": false
   },
   "outputs": [],
   "source": [
    "pd_regras.apply(sum)"
   ]
  },
  {
   "cell_type": "code",
   "execution_count": null,
   "metadata": {
    "collapsed": true
   },
   "outputs": [],
   "source": []
  }
 ],
 "metadata": {
  "kernelspec": {
   "display_name": "Python 2",
   "language": "python",
   "name": "python2"
  },
  "language_info": {
   "codemirror_mode": {
    "name": "ipython",
    "version": 2
   },
   "file_extension": ".py",
   "mimetype": "text/x-python",
   "name": "python",
   "nbconvert_exporter": "python",
   "pygments_lexer": "ipython2",
   "version": "2.7.6"
  }
 },
 "nbformat": 4,
 "nbformat_minor": 0
}
