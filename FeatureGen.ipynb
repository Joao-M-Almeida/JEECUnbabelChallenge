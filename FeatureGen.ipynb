{
 "cells": [
  {
   "cell_type": "code",
   "execution_count": null,
   "metadata": {
    "collapsed": false
   },
   "outputs": [],
   "source": [
    "import pandas as pd\n",
    "import numpy as np\n",
    "from post_tag import *\n",
    "import csv\n",
    "\n",
    "translations = pd.read_csv(\"training.txt\", sep=\"\\t\", header=None, names=['labels','phrases'], quoting=csv.QUOTE_NONE)\n",
    "translations"
   ]
  },
  {
   "cell_type": "code",
   "execution_count": null,
   "metadata": {
    "collapsed": false
   },
   "outputs": [],
   "source": [
    "translations_new=pd.concat([translations, translations['phrases'].apply(countApost), translations['phrases'].apply(len)], axis=1, )\n",
    "translations_new.columns = ['labels', 'phrases', 'apost', 'len']\n",
    "translations_new"
   ]
  },
  {
   "cell_type": "code",
   "execution_count": null,
   "metadata": {
    "collapsed": false
   },
   "outputs": [],
   "source": [
    "def countApost(phrase):\n",
    "    res = 0\n",
    "    for x in phrase:\n",
    "        if x == \"'\":\n",
    "            res +=1\n",
    "    return res"
   ]
  },
  {
   "cell_type": "code",
   "execution_count": null,
   "metadata": {
    "collapsed": true
   },
   "outputs": [],
   "source": [
    "def countQuest(phrase):\n",
    "    apost = 0\n",
    "    quest = 0\n",
    "    notquest=0\n",
    "    excl=0\n",
    "    notexclt=0\n",
    "    for x in phrase:\n",
    "        if x == \"?\":\n",
    "            quest +=1\n",
    "        if x == \"¿\":\n",
    "            notquest +=1\n",
    "        if x == \"'\":\n",
    "            apost +=1\n",
    "        if x == \"!\"\n",
    "            excl +=1\n",
    "        if x == \"¡\"\n",
    "            notexcl +=1\n",
    "        \n",
    "    return [apost, quest, notquest, excl, notexcl]\n",
    "\n"
   ]
  },
  {
   "cell_type": "code",
   "execution_count": null,
   "metadata": {
    "collapsed": false
   },
   "outputs": [],
   "source": [
    "translations_new=pd.concat([translations, translations['phrases'].apply(countApost)], axis=1, )\n",
    "translations_new.columns = ['labels', 'phrases', 'apost']\n",
    "translations_new\n",
    "\n",
    "num_machine_0 = 0\n",
    "num_machine_1 = 0\n",
    "num_person_0 = 0\n",
    "num_person_1 = 0\n",
    "for k in range(len(translations_new)): # para cada frase\n",
    "    if translations_new.iloc[k]['labels'] == 0 and translations_new.iloc[k]['apost'] == 1:\n",
    "        aux_num_machine_1+=1\n",
    "    if translations_new.iloc[k]['labels'] == 0 and translations_new.iloc[k]['apost'] == 0:\n",
    "        aux_num_machine_0+=1\n",
    "    if translations_new.iloc[k]['labels'] == 1 and translations_new.iloc[k]['apost'] == 1:\n",
    "        aux_num_person_1+=1\n",
    "    if translations_new.iloc[k]['labels'] == 1 and translations_new.iloc[k]['apost'] == 0:\n",
    "        aux_num_person_0+=1\n",
    "    if aux_num_machine_1 != 0:\n",
    "        \n",
    "    \n",
    "print (num_machine_1/(num_machine_1 + num_machine_0), num_person_1/(num_person_1 + num_person_0))\n"
   ]
  },
  {
   "cell_type": "code",
   "execution_count": null,
   "metadata": {
    "collapsed": false
   },
   "outputs": [],
   "source": [
    "(num_machine_0*100.0/(num_machine_1 + num_machine_0), num_person_0*100.0/(num_person_1 + num_person_0))"
   ]
  },
  {
   "cell_type": "code",
   "execution_count": null,
   "metadata": {
    "collapsed": false
   },
   "outputs": [],
   "source": [
    "translations_new=pd.concat([translations, translations['phrases'].apply(countApost)], axis=1, )\n",
    "translations_new.columns = ['labels', 'phrases', 'apost']\n",
    "translations_new\n",
    "\n",
    "num_machine_0 = 0 # frase traduzida por maquina com numero par de apostrofes != 0\n",
    "num_machine_1 = 0 # frase traduzida por maquina com numero impar de apostrofes != 0\n",
    "num_person_0 = 0 # frase traduzida por pessoa com numero par de apostrofes != 0\n",
    "num_person_1 = 0 # frase traduzida por pessoa com numero impar de apostrofes != 0\n",
    "\n",
    "for k in range(len(translations_new)): # para cada frase\n",
    "    if translations_new.iloc[k]['apost'] != 0:\n",
    "        if translations_new.iloc[k]['labels'] == 0 and translations_new.iloc[k]['apost'] % 2 == 1:\n",
    "            num_machine_1+=1\n",
    "        if translations_new.iloc[k]['labels'] == 0 and translations_new.iloc[k]['apost'] % 2== 0:\n",
    "            num_machine_0+=1\n",
    "        if translations_new.iloc[k]['labels'] == 1 and translations_new.iloc[k]['apost'] % 2== 1:\n",
    "            num_person_1+=1\n",
    "        if translations_new.iloc[k]['labels'] == 1 and translations_new.iloc[k]['apost'] % 2== 0:\n",
    "            num_person_0+=1\n",
    "    \n",
    "print (num_machine_1/(num_machine_1 + num_machine_0), num_person_1/(num_person_1 + num_person_0))"
   ]
  },
  {
   "cell_type": "code",
   "execution_count": null,
   "metadata": {
    "collapsed": false
   },
   "outputs": [],
   "source": [
    "num_machine_1*100.0/(num_machine_1 + num_person_1)\n",
    "num_person_1*100.0/(num_machine_1 + num_person_1)\n",
    "\n",
    "num_machine_1 + num_person_1"
   ]
  },
  {
   "cell_type": "code",
   "execution_count": null,
   "metadata": {
    "collapsed": true
   },
   "outputs": [],
   "source": []
  }
 ],
 "metadata": {
  "kernelspec": {
   "display_name": "Python 2",
   "language": "python",
   "name": "python2"
  },
  "language_info": {
   "codemirror_mode": {
    "name": "ipython",
    "version": 2
   },
   "file_extension": ".py",
   "mimetype": "text/x-python",
   "name": "python",
   "nbconvert_exporter": "python",
   "pygments_lexer": "ipython2",
   "version": "2.7.10"
  }
 },
 "nbformat": 4,
 "nbformat_minor": 0
}
