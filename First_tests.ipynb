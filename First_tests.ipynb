{
 "cells": [
  {
   "cell_type": "code",
   "execution_count": 1,
   "metadata": {
    "collapsed": true
   },
   "outputs": [],
   "source": [
    "import pandas as pd\n",
    "import numpy as np\n",
    "#from post_tag import *\n",
    "import csv"
   ]
  },
  {
   "cell_type": "code",
   "execution_count": 2,
   "metadata": {
    "collapsed": false
   },
   "outputs": [
    {
     "data": {
      "text/html": [
       "<div>\n",
       "<table border=\"1\" class=\"dataframe\">\n",
       "  <thead>\n",
       "    <tr style=\"text-align: right;\">\n",
       "      <th></th>\n",
       "      <th>labels</th>\n",
       "      <th>phrases</th>\n",
       "    </tr>\n",
       "  </thead>\n",
       "  <tbody>\n",
       "    <tr>\n",
       "      <th>0</th>\n",
       "      <td>1</td>\n",
       "      <td>La noticia de WhatsApp , aplicación de mensaje...</td>\n",
       "    </tr>\n",
       "    <tr>\n",
       "      <th>1</th>\n",
       "      <td>0</td>\n",
       "      <td>En cualquier caso , aunque la respeto mucho Fr...</td>\n",
       "    </tr>\n",
       "    <tr>\n",
       "      <th>2</th>\n",
       "      <td>0</td>\n",
       "      <td>Entre los 320 individuos de actuación son el m...</td>\n",
       "    </tr>\n",
       "    <tr>\n",
       "      <th>3</th>\n",
       "      <td>1</td>\n",
       "      <td>Tal vez ella vaya a tomar aunque sea alguno de...</td>\n",
       "    </tr>\n",
       "    <tr>\n",
       "      <th>4</th>\n",
       "      <td>1</td>\n",
       "      <td>Ella ha hecho mucho por las mujeres en la músi...</td>\n",
       "    </tr>\n",
       "    <tr>\n",
       "      <th>5</th>\n",
       "      <td>0</td>\n",
       "      <td>Astro Teller tiene su trabajo ideal , actualme...</td>\n",
       "    </tr>\n",
       "    <tr>\n",
       "      <th>6</th>\n",
       "      <td>0</td>\n",
       "      <td>Nueve de los socios de Accel han realizado inv...</td>\n",
       "    </tr>\n",
       "    <tr>\n",
       "      <th>7</th>\n",
       "      <td>1</td>\n",
       "      <td>\" Otras veces , parecen guíarse de Hollywood .</td>\n",
       "    </tr>\n",
       "    <tr>\n",
       "      <th>8</th>\n",
       "      <td>0</td>\n",
       "      <td>Apuestas JayBird En seguimiento inteligente pa...</td>\n",
       "    </tr>\n",
       "    <tr>\n",
       "      <th>9</th>\n",
       "      <td>1</td>\n",
       "      <td>En esta ocasión , ¡ nos hemos dado cuenta !</td>\n",
       "    </tr>\n",
       "    <tr>\n",
       "      <th>10</th>\n",
       "      <td>1</td>\n",
       "      <td>Esta es noticia loca !</td>\n",
       "    </tr>\n",
       "    <tr>\n",
       "      <th>11</th>\n",
       "      <td>0</td>\n",
       "      <td>No es una mala combinación si se va a tomar ta...</td>\n",
       "    </tr>\n",
       "    <tr>\n",
       "      <th>12</th>\n",
       "      <td>1</td>\n",
       "      <td>Inicio Adventr ( pronunciado \" aventura \" ) es...</td>\n",
       "    </tr>\n",
       "    <tr>\n",
       "      <th>13</th>\n",
       "      <td>0</td>\n",
       "      <td>La lectura de las despedidas mis compañeros bl...</td>\n",
       "    </tr>\n",
       "    <tr>\n",
       "      <th>14</th>\n",
       "      <td>0</td>\n",
       "      <td>Incluso tratando de mirar a la otra persona a ...</td>\n",
       "    </tr>\n",
       "    <tr>\n",
       "      <th>15</th>\n",
       "      <td>1</td>\n",
       "      <td>Los dejo con el mejor discurso presidencial ja...</td>\n",
       "    </tr>\n",
       "    <tr>\n",
       "      <th>16</th>\n",
       "      <td>1</td>\n",
       "      <td>Las 23 Cosas Todas las mujeres piensan de penes</td>\n",
       "    </tr>\n",
       "    <tr>\n",
       "      <th>17</th>\n",
       "      <td>0</td>\n",
       "      <td>Iluminación Christopher Akerlind ' s añadió ta...</td>\n",
       "    </tr>\n",
       "    <tr>\n",
       "      <th>18</th>\n",
       "      <td>1</td>\n",
       "      <td>No se deje engañar por Donnie Wahlberg en esto...</td>\n",
       "    </tr>\n",
       "    <tr>\n",
       "      <th>19</th>\n",
       "      <td>0</td>\n",
       "      <td>Tenían una boda tan reservado Incluso Gossip G...</td>\n",
       "    </tr>\n",
       "    <tr>\n",
       "      <th>20</th>\n",
       "      <td>0</td>\n",
       "      <td>\" Todavía estoy teniendo un tiempo difícil con...</td>\n",
       "    </tr>\n",
       "    <tr>\n",
       "      <th>21</th>\n",
       "      <td>0</td>\n",
       "      <td>Bill O ' Reilly no ¿ Tiene Stephen Colbert pue...</td>\n",
       "    </tr>\n",
       "    <tr>\n",
       "      <th>22</th>\n",
       "      <td>0</td>\n",
       "      <td>Etiquetas : hermoso , Beverly Hills , para los...</td>\n",
       "    </tr>\n",
       "    <tr>\n",
       "      <th>23</th>\n",
       "      <td>1</td>\n",
       "      <td>Pero cuando se profundiza en las ventas region...</td>\n",
       "    </tr>\n",
       "    <tr>\n",
       "      <th>24</th>\n",
       "      <td>0</td>\n",
       "      <td>Esto no es ninguna mierda am-recitación-pantal...</td>\n",
       "    </tr>\n",
       "    <tr>\n",
       "      <th>25</th>\n",
       "      <td>1</td>\n",
       "      <td>Al escribir en Quartz , Zachary Seward señaló ...</td>\n",
       "    </tr>\n",
       "    <tr>\n",
       "      <th>26</th>\n",
       "      <td>1</td>\n",
       "      <td>La novia de Johnny , Amber Heard , fue vista t...</td>\n",
       "    </tr>\n",
       "    <tr>\n",
       "      <th>27</th>\n",
       "      <td>0</td>\n",
       "      <td>En febrero de 2011 , que tenían una plataforma...</td>\n",
       "    </tr>\n",
       "    <tr>\n",
       "      <th>28</th>\n",
       "      <td>0</td>\n",
       "      <td>Es por eso que cada cartel iPad y cartelera cu...</td>\n",
       "    </tr>\n",
       "    <tr>\n",
       "      <th>29</th>\n",
       "      <td>0</td>\n",
       "      <td>Sus admiradores disfrutaron de la atención , l...</td>\n",
       "    </tr>\n",
       "    <tr>\n",
       "      <th>...</th>\n",
       "      <td>...</td>\n",
       "      <td>...</td>\n",
       "    </tr>\n",
       "    <tr>\n",
       "      <th>20048</th>\n",
       "      <td>1</td>\n",
       "      <td>Había velas negras , blancas y rojas en forma ...</td>\n",
       "    </tr>\n",
       "    <tr>\n",
       "      <th>20049</th>\n",
       "      <td>1</td>\n",
       "      <td>Esto no es compasión .</td>\n",
       "    </tr>\n",
       "    <tr>\n",
       "      <th>20050</th>\n",
       "      <td>1</td>\n",
       "      <td>En los últimos días , le he estado animando a ...</td>\n",
       "    </tr>\n",
       "    <tr>\n",
       "      <th>20051</th>\n",
       "      <td>0</td>\n",
       "      <td>Estoy inmensamente agradecido a Montel William...</td>\n",
       "    </tr>\n",
       "    <tr>\n",
       "      <th>20052</th>\n",
       "      <td>0</td>\n",
       "      <td>Traducción : él volcado ahora .</td>\n",
       "    </tr>\n",
       "    <tr>\n",
       "      <th>20053</th>\n",
       "      <td>1</td>\n",
       "      <td>Fue escalofriante hasta los huesos , y mi prim...</td>\n",
       "    </tr>\n",
       "    <tr>\n",
       "      <th>20054</th>\n",
       "      <td>1</td>\n",
       "      <td>Los del 39 fueron formados bajo la experiencia...</td>\n",
       "    </tr>\n",
       "    <tr>\n",
       "      <th>20055</th>\n",
       "      <td>0</td>\n",
       "      <td>Había noches de semana cuando todavía estaríam...</td>\n",
       "    </tr>\n",
       "    <tr>\n",
       "      <th>20056</th>\n",
       "      <td>1</td>\n",
       "      <td>Estábamos hablando sobre lo extraño que era el...</td>\n",
       "    </tr>\n",
       "    <tr>\n",
       "      <th>20057</th>\n",
       "      <td>1</td>\n",
       "      <td>El ambiente era festivo lunes como constante c...</td>\n",
       "    </tr>\n",
       "    <tr>\n",
       "      <th>20058</th>\n",
       "      <td>0</td>\n",
       "      <td>Ahora un diputado , dijo Rehn en una carta pub...</td>\n",
       "    </tr>\n",
       "    <tr>\n",
       "      <th>20059</th>\n",
       "      <td>0</td>\n",
       "      <td>Ella ha desarrollado un horrible , controlar ,...</td>\n",
       "    </tr>\n",
       "    <tr>\n",
       "      <th>20060</th>\n",
       "      <td>1</td>\n",
       "      <td>( Si usted quiere ser parte de la próxima rond...</td>\n",
       "    </tr>\n",
       "    <tr>\n",
       "      <th>20061</th>\n",
       "      <td>0</td>\n",
       "      <td>Se habló en este sentido en ROFLCon , pero la ...</td>\n",
       "    </tr>\n",
       "    <tr>\n",
       "      <th>20062</th>\n",
       "      <td>1</td>\n",
       "      <td>Ahora que los que cocinaron el infame dúo está...</td>\n",
       "    </tr>\n",
       "    <tr>\n",
       "      <th>20063</th>\n",
       "      <td>1</td>\n",
       "      <td>Ella vive en Santa Fe y hace sus propias campa...</td>\n",
       "    </tr>\n",
       "    <tr>\n",
       "      <th>20064</th>\n",
       "      <td>0</td>\n",
       "      <td>Pero el movimiento necesitaba un líder apasion...</td>\n",
       "    </tr>\n",
       "    <tr>\n",
       "      <th>20065</th>\n",
       "      <td>0</td>\n",
       "      <td>Estamos impresionados con Kendall si esto es c...</td>\n",
       "    </tr>\n",
       "    <tr>\n",
       "      <th>20066</th>\n",
       "      <td>1</td>\n",
       "      <td>Las relaciones profundas y significativas que ...</td>\n",
       "    </tr>\n",
       "    <tr>\n",
       "      <th>20067</th>\n",
       "      <td>1</td>\n",
       "      <td>Y toda una nueva generación de personas que - ...</td>\n",
       "    </tr>\n",
       "    <tr>\n",
       "      <th>20068</th>\n",
       "      <td>1</td>\n",
       "      <td>Si todavía no sabemos exactamente lo que la pr...</td>\n",
       "    </tr>\n",
       "    <tr>\n",
       "      <th>20069</th>\n",
       "      <td>0</td>\n",
       "      <td>Los aficionados de los presuntos Young &amp; Restl...</td>\n",
       "    </tr>\n",
       "    <tr>\n",
       "      <th>20070</th>\n",
       "      <td>1</td>\n",
       "      <td>Estamos encantados de anunciar que Astro se un...</td>\n",
       "    </tr>\n",
       "    <tr>\n",
       "      <th>20071</th>\n",
       "      <td>0</td>\n",
       "      <td>En otro libro reciente , \" No eres un Gadget \"...</td>\n",
       "    </tr>\n",
       "    <tr>\n",
       "      <th>20072</th>\n",
       "      <td>1</td>\n",
       "      <td>Todos han ido compitiendo por el premio princi...</td>\n",
       "    </tr>\n",
       "    <tr>\n",
       "      <th>20073</th>\n",
       "      <td>1</td>\n",
       "      <td>Ella hablo sobre su pasión por la lacto-fermen...</td>\n",
       "    </tr>\n",
       "    <tr>\n",
       "      <th>20074</th>\n",
       "      <td>0</td>\n",
       "      <td>Ayer por la tarde Marlo preguntó si podía juga...</td>\n",
       "    </tr>\n",
       "    <tr>\n",
       "      <th>20075</th>\n",
       "      <td>0</td>\n",
       "      <td>Y él dice que podría hacerlo 200X mayor de la ...</td>\n",
       "    </tr>\n",
       "    <tr>\n",
       "      <th>20076</th>\n",
       "      <td>1</td>\n",
       "      <td>Algunos Anon vieron el PLF</td>\n",
       "    </tr>\n",
       "    <tr>\n",
       "      <th>20077</th>\n",
       "      <td>0</td>\n",
       "      <td>La triste verdad es que si la única manera de ...</td>\n",
       "    </tr>\n",
       "  </tbody>\n",
       "</table>\n",
       "<p>20078 rows × 2 columns</p>\n",
       "</div>"
      ],
      "text/plain": [
       "       labels                                            phrases\n",
       "0           1  La noticia de WhatsApp , aplicación de mensaje...\n",
       "1           0  En cualquier caso , aunque la respeto mucho Fr...\n",
       "2           0  Entre los 320 individuos de actuación son el m...\n",
       "3           1  Tal vez ella vaya a tomar aunque sea alguno de...\n",
       "4           1  Ella ha hecho mucho por las mujeres en la músi...\n",
       "5           0  Astro Teller tiene su trabajo ideal , actualme...\n",
       "6           0  Nueve de los socios de Accel han realizado inv...\n",
       "7           1     \" Otras veces , parecen guíarse de Hollywood .\n",
       "8           0  Apuestas JayBird En seguimiento inteligente pa...\n",
       "9           1        En esta ocasión , ¡ nos hemos dado cuenta !\n",
       "10          1                             Esta es noticia loca !\n",
       "11          0  No es una mala combinación si se va a tomar ta...\n",
       "12          1  Inicio Adventr ( pronunciado \" aventura \" ) es...\n",
       "13          0  La lectura de las despedidas mis compañeros bl...\n",
       "14          0  Incluso tratando de mirar a la otra persona a ...\n",
       "15          1  Los dejo con el mejor discurso presidencial ja...\n",
       "16          1    Las 23 Cosas Todas las mujeres piensan de penes\n",
       "17          0  Iluminación Christopher Akerlind ' s añadió ta...\n",
       "18          1  No se deje engañar por Donnie Wahlberg en esto...\n",
       "19          0  Tenían una boda tan reservado Incluso Gossip G...\n",
       "20          0  \" Todavía estoy teniendo un tiempo difícil con...\n",
       "21          0  Bill O ' Reilly no ¿ Tiene Stephen Colbert pue...\n",
       "22          0  Etiquetas : hermoso , Beverly Hills , para los...\n",
       "23          1  Pero cuando se profundiza en las ventas region...\n",
       "24          0  Esto no es ninguna mierda am-recitación-pantal...\n",
       "25          1  Al escribir en Quartz , Zachary Seward señaló ...\n",
       "26          1  La novia de Johnny , Amber Heard , fue vista t...\n",
       "27          0  En febrero de 2011 , que tenían una plataforma...\n",
       "28          0  Es por eso que cada cartel iPad y cartelera cu...\n",
       "29          0  Sus admiradores disfrutaron de la atención , l...\n",
       "...       ...                                                ...\n",
       "20048       1  Había velas negras , blancas y rojas en forma ...\n",
       "20049       1                             Esto no es compasión .\n",
       "20050       1  En los últimos días , le he estado animando a ...\n",
       "20051       0  Estoy inmensamente agradecido a Montel William...\n",
       "20052       0                    Traducción : él volcado ahora .\n",
       "20053       1  Fue escalofriante hasta los huesos , y mi prim...\n",
       "20054       1  Los del 39 fueron formados bajo la experiencia...\n",
       "20055       0  Había noches de semana cuando todavía estaríam...\n",
       "20056       1  Estábamos hablando sobre lo extraño que era el...\n",
       "20057       1  El ambiente era festivo lunes como constante c...\n",
       "20058       0  Ahora un diputado , dijo Rehn en una carta pub...\n",
       "20059       0  Ella ha desarrollado un horrible , controlar ,...\n",
       "20060       1  ( Si usted quiere ser parte de la próxima rond...\n",
       "20061       0  Se habló en este sentido en ROFLCon , pero la ...\n",
       "20062       1  Ahora que los que cocinaron el infame dúo está...\n",
       "20063       1  Ella vive en Santa Fe y hace sus propias campa...\n",
       "20064       0  Pero el movimiento necesitaba un líder apasion...\n",
       "20065       0  Estamos impresionados con Kendall si esto es c...\n",
       "20066       1  Las relaciones profundas y significativas que ...\n",
       "20067       1  Y toda una nueva generación de personas que - ...\n",
       "20068       1  Si todavía no sabemos exactamente lo que la pr...\n",
       "20069       0  Los aficionados de los presuntos Young & Restl...\n",
       "20070       1  Estamos encantados de anunciar que Astro se un...\n",
       "20071       0  En otro libro reciente , \" No eres un Gadget \"...\n",
       "20072       1  Todos han ido compitiendo por el premio princi...\n",
       "20073       1  Ella hablo sobre su pasión por la lacto-fermen...\n",
       "20074       0  Ayer por la tarde Marlo preguntó si podía juga...\n",
       "20075       0  Y él dice que podría hacerlo 200X mayor de la ...\n",
       "20076       1                         Algunos Anon vieron el PLF\n",
       "20077       0  La triste verdad es que si la única manera de ...\n",
       "\n",
       "[20078 rows x 2 columns]"
      ]
     },
     "execution_count": 2,
     "metadata": {},
     "output_type": "execute_result"
    }
   ],
   "source": [
    "translations = pd.read_csv(\"training.txt\", sep=\"\\t\", header=None, names=['labels','phrases'], quoting=csv.QUOTE_NONE)\n",
    "translations"
   ]
  },
  {
   "cell_type": "code",
   "execution_count": 3,
   "metadata": {
    "collapsed": false
   },
   "outputs": [],
   "source": [
    "#Notes about the data:\n",
    "# it's about 50/50 labels\n",
    "\n"
   ]
  },
  {
   "cell_type": "code",
   "execution_count": 4,
   "metadata": {
    "collapsed": false
   },
   "outputs": [],
   "source": [
    "from sklearn.feature_extraction.text import  CountVectorizer\n",
    "from sklearn.decomposition import LatentDirichletAllocation\n",
    "import sklearn\n",
    "#from stop_words import get_stop_words\n",
    "from time import time\n",
    "from nltk.corpus import stopwords\n"
   ]
  },
  {
   "cell_type": "code",
   "execution_count": 5,
   "metadata": {
    "collapsed": false
   },
   "outputs": [],
   "source": [
    "es_stop = stopwords.words('spanish')"
   ]
  },
  {
   "cell_type": "code",
   "execution_count": 6,
   "metadata": {
    "collapsed": true
   },
   "outputs": [],
   "source": [
    "M_doc_freq = 0.80\n",
    "min_doc_freq = 10\n",
    "\n",
    "CV = CountVectorizer(max_df=M_doc_freq, min_df=min_doc_freq, stop_words=es_stop, binary=True, lowercase=True)"
   ]
  },
  {
   "cell_type": "code",
   "execution_count": 7,
   "metadata": {
    "collapsed": false
   },
   "outputs": [
    {
     "name": "stderr",
     "output_type": "stream",
     "text": [
      "/Library/Python/2.7/site-packages/numpy-1.11.0rc1-py2.7-macosx-10.10-intel.egg/numpy/core/fromnumeric.py:2652: VisibleDeprecationWarning: `rank` is deprecated; use the `ndim` attribute or function instead. To find the rank of a matrix see `numpy.linalg.matrix_rank`.\n",
      "  VisibleDeprecationWarning)\n"
     ]
    },
    {
     "name": "stdout",
     "output_type": "stream",
     "text": [
      "done in 1.356s.\n"
     ]
    }
   ],
   "source": [
    "# Fit the vectorizer\n",
    "t0 = time()\n",
    "CV = CV.fit(translations['phrases'].values)\n",
    "\n",
    "phrase_matrix = CV.transform(translations['phrases'].values)\n",
    "print(\"done in %0.3fs.\" % (time() - t0))\n",
    "tf_feature_names = CV.get_feature_names()"
   ]
  },
  {
   "cell_type": "code",
   "execution_count": 8,
   "metadata": {
    "collapsed": false
   },
   "outputs": [],
   "source": [
    "n_wrds=len(CV.vocabulary_)"
   ]
  },
  {
   "cell_type": "code",
   "execution_count": 9,
   "metadata": {
    "collapsed": false
   },
   "outputs": [],
   "source": [
    "cols = ['bw' + str(i) for i in range(n_wrds)]\n",
    "\n",
    "BofW_feats = pd.DataFrame(phrase_matrix.todense(), columns=cols)\n",
    "BofW_feats.to_csv('BoW_feats.csv')"
   ]
  },
  {
   "cell_type": "code",
   "execution_count": 10,
   "metadata": {
    "collapsed": true
   },
   "outputs": [],
   "source": [
    "from sklearn.svm import SVC\n",
    "from sklearn.metrics import accuracy_score\n",
    "from sklearn import cross_validation\n",
    "from sklearn.decomposition import PCA\n",
    "from sklearn.decomposition import TruncatedSVD\n",
    "import csv\n",
    "\n",
    "#Generic utils\n",
    "from sklearn.pipeline import Pipeline\n",
    "from sklearn.grid_search import GridSearchCV"
   ]
  },
  {
   "cell_type": "code",
   "execution_count": 11,
   "metadata": {
    "collapsed": true
   },
   "outputs": [],
   "source": [
    "data = phrase_matrix\n",
    "target = translations['labels'].values\n",
    "classf =  SVC()"
   ]
  },
  {
   "cell_type": "code",
   "execution_count": null,
   "metadata": {
    "collapsed": false
   },
   "outputs": [],
   "source": [
    "t0 = time()\n",
    "classf.fit(data,target)\n",
    "print \"Score of SVM: \" + str(classf.score(data,target))\n",
    "print(\"done in %0.3fs.\" % (time() - t0))"
   ]
  },
  {
   "cell_type": "code",
   "execution_count": 17,
   "metadata": {
    "collapsed": false
   },
   "outputs": [
    {
     "name": "stdout",
     "output_type": "stream",
     "text": [
      "SVD fit done in 1.868s.\n"
     ]
    }
   ],
   "source": [
    "data = phrase_matrix\n",
    "t0 = time()\n",
    "svd = TruncatedSVD(n_components=200, random_state=42)\n",
    "svd.fit(data) \n",
    "data = svd.transform(data)\n",
    "print(\"SVD fit done in %0.3fs.\" % (time() - t0))\n",
    "cols = ['bw' + str(i) for i in range(200)]\n",
    "BofW_SVD_feats = pd.DataFrame(data, columns = cols)\n",
    "BofW_SVD_feats.to_csv('BofW_SVD_feats.csv')"
   ]
  },
  {
   "cell_type": "code",
   "execution_count": null,
   "metadata": {
    "collapsed": false
   },
   "outputs": [],
   "source": [
    "t0 = time()\n",
    "data = data\n",
    "pca = PCA(n_components =500)\n",
    "pca.fit(data)\n",
    "data = pca.transform(data)\n",
    "print(\"PCA fit done in %0.3fs.\" % (time() - t0))"
   ]
  },
  {
   "cell_type": "code",
   "execution_count": null,
   "metadata": {
    "collapsed": false
   },
   "outputs": [],
   "source": [
    "t0 = time()\n",
    "classf = SVC()\n",
    "scores = cross_validation.cross_val_score(classf,data,target, cv = 10)\n",
    "print \"Scores: \" + str(scores)\n",
    "print \"Crossval Final score: \"+ str(sum(scores)/10)\n",
    "print(\"Cross val done in %0.3fs.\" % (time() - t0))"
   ]
  },
  {
   "cell_type": "code",
   "execution_count": 14,
   "metadata": {
    "collapsed": false
   },
   "outputs": [],
   "source": [
    "pipeline = Pipeline([\n",
    "    ('svd',TruncatedSVD()),\n",
    "    ('svm', SVC())\n",
    "])\n",
    "# Fine tune parameters using exaustive GridSearch:\n",
    "\n",
    "parameters = {\n",
    "    'svd__n_components': (50,100,200,300,1000),\n",
    "    }\n",
    "    \n",
    "#done in 2334.428s\n",
    "#()\n",
    "#Best score: 0.513\n",
    "#Best parameters set:\n",
    "#\tsvd__n_components: 200\n",
    "grid_search = GridSearchCV(pipeline, parameters ,verbose=1)"
   ]
  },
  {
   "cell_type": "code",
   "execution_count": 15,
   "metadata": {
    "collapsed": false
   },
   "outputs": [
    {
     "name": "stdout",
     "output_type": "stream",
     "text": [
      "Fitting 3 folds for each of 5 candidates, totalling 15 fits\n"
     ]
    },
    {
     "name": "stderr",
     "output_type": "stream",
     "text": [
      "[Parallel(n_jobs=1)]: Done  15 out of  15 | elapsed: 36.5min finished\n"
     ]
    },
    {
     "name": "stdout",
     "output_type": "stream",
     "text": [
      "done in 2334.428s\n",
      "()\n",
      "Best score: 0.513\n",
      "Best parameters set:\n",
      "\tsvd__n_components: 200\n"
     ]
    }
   ],
   "source": [
    "data = phrase_matrix\n",
    "\n",
    "t0 = time()\n",
    "grid_search.fit(data, target)\n",
    "print(\"done in %0.3fs\" % (time() - t0))\n",
    "print()\n",
    "\n",
    "print(\"Best score: %0.3f\" % grid_search.best_score_)\n",
    "print(\"Best parameters set:\")\n",
    "best_parameters = grid_search.best_estimator_.get_params()\n",
    "for param_name in sorted(parameters.keys()):\n",
    "    print(\"\\t%s: %r\" % (param_name, best_parameters[param_name]))"
   ]
  },
  {
   "cell_type": "code",
   "execution_count": null,
   "metadata": {
    "collapsed": true
   },
   "outputs": [],
   "source": []
  },
  {
   "cell_type": "code",
   "execution_count": null,
   "metadata": {
    "collapsed": false
   },
   "outputs": [],
   "source": [
    "# How to process a test set and predict the labels \n",
    "\n",
    "test = pd.read_csv(\"example_test.txt\", sep=\"\\t\", header=None, names=['labels','phrases'], lineterminator='\\n', quoting=csv.QUOTE_NONE)\n",
    "test"
   ]
  },
  {
   "cell_type": "code",
   "execution_count": null,
   "metadata": {
    "collapsed": false
   },
   "outputs": [],
   "source": [
    "testlabs = classf.predict(svd.transform(CV.transform(test['phrases'])))"
   ]
  },
  {
   "cell_type": "code",
   "execution_count": null,
   "metadata": {
    "collapsed": false
   },
   "outputs": [],
   "source": [
    "test.labels = test['labels'] = testlabs\n",
    "test"
   ]
  },
  {
   "cell_type": "code",
   "execution_count": null,
   "metadata": {
    "collapsed": true
   },
   "outputs": [],
   "source": []
  },
  {
   "cell_type": "code",
   "execution_count": null,
   "metadata": {
    "collapsed": false
   },
   "outputs": [],
   "source": [
    "test.to_csv(\"example_test_output.txt\", sep=\"\\t\", header=False, index=False, quoting=csv.QUOTE_NONE)"
   ]
  },
  {
   "cell_type": "code",
   "execution_count": null,
   "metadata": {
    "collapsed": false
   },
   "outputs": [],
   "source": [
    "test.iloc[0]['phrases']"
   ]
  },
  {
   "cell_type": "code",
   "execution_count": null,
   "metadata": {
    "collapsed": true
   },
   "outputs": [],
   "source": [
    "import pandas as pd\n",
    "import numpy as np\n",
    "from post_tag import *\n",
    "import csv\n",
    "from time import time\n",
    "translations = pd.read_csv(\"training.txt\", sep=\"\\t\", header=None, names=['labels','phrases'], quoting=csv.QUOTE_NONE)\n",
    "\n"
   ]
  },
  {
   "cell_type": "code",
   "execution_count": null,
   "metadata": {
    "collapsed": false
   },
   "outputs": [],
   "source": [
    "# play around with pos tagging\n",
    "trans = translations['phrases'].apply(postag)"
   ]
  },
  {
   "cell_type": "code",
   "execution_count": null,
   "metadata": {
    "collapsed": false
   },
   "outputs": [],
   "source": [
    "test = pd.read_csv(\"example_test.txt\", sep=\"\\t\", header=None, names=['labels','phrases'], lineterminator='\\n', quoting=csv.QUOTE_NONE)\n",
    "\n",
    "test"
   ]
  },
  {
   "cell_type": "code",
   "execution_count": null,
   "metadata": {
    "collapsed": false
   },
   "outputs": [],
   "source": [
    "t0 = time()\n",
    "test_tagged = test['phrases'].apply(postag)\n",
    "print(\"done in %0.3fs.\"%(time()-t0))"
   ]
  },
  {
   "cell_type": "code",
   "execution_count": null,
   "metadata": {
    "collapsed": false
   },
   "outputs": [],
   "source": [
    "fdist = itertools.permutations(words, 2)\n",
    "permu_names = [f for f in fdist]\n",
    "tags_DF = pd.DataFrame(np.asmatrix(list(test_tagged)),columns = permu_names)\n",
    "\n",
    "test_new = pd.concat([test, tags_DF], axis=1,join_axes=[test.index])\n",
    "test_new.drop('phrases',axis=1, inplace=True)\n",
    "test_new.to_csv(path_or_buf='pos_tags_train_data.csv')"
   ]
  },
  {
   "cell_type": "code",
   "execution_count": null,
   "metadata": {
    "collapsed": false
   },
   "outputs": [],
   "source": []
  },
  {
   "cell_type": "code",
   "execution_count": null,
   "metadata": {
    "collapsed": false
   },
   "outputs": [],
   "source": []
  },
  {
   "cell_type": "code",
   "execution_count": null,
   "metadata": {
    "collapsed": true
   },
   "outputs": [],
   "source": []
  },
  {
   "cell_type": "code",
   "execution_count": null,
   "metadata": {
    "collapsed": true
   },
   "outputs": [],
   "source": []
  },
  {
   "cell_type": "code",
   "execution_count": null,
   "metadata": {
    "collapsed": false
   },
   "outputs": [],
   "source": [
    "import cProfile\n",
    "cProfile.run('test_tagged = test[\"phrases\"].apply(postag)')"
   ]
  },
  {
   "cell_type": "code",
   "execution_count": null,
   "metadata": {
    "collapsed": false
   },
   "outputs": [],
   "source": [
    "translat = translations[0:100]"
   ]
  },
  {
   "cell_type": "code",
   "execution_count": null,
   "metadata": {
    "collapsed": true
   },
   "outputs": [],
   "source": []
  },
  {
   "cell_type": "code",
   "execution_count": null,
   "metadata": {
    "collapsed": false
   },
   "outputs": [],
   "source": [
    "tags_DF"
   ]
  },
  {
   "cell_type": "code",
   "execution_count": null,
   "metadata": {
    "collapsed": true
   },
   "outputs": [],
   "source": [
    "# Now transform all the data\n",
    "import pandas as pd\n",
    "import numpy as np\n",
    "from post_tag import *\n",
    "import csv\n",
    "from time import time\n",
    "translations = pd.read_csv(\"training.txt\", sep=\"\\t\", header=None, names=['labels','phrases'], quoting=csv.QUOTE_NONE)\n",
    "fdist = itertools.permutations(words, 2)\n",
    "permu_names = [f for f in fdist]\n",
    "\n"
   ]
  },
  {
   "cell_type": "code",
   "execution_count": null,
   "metadata": {
    "collapsed": false
   },
   "outputs": [],
   "source": [
    "trans = translat['phrases'].apply(postag)\n",
    "tags_DF = pd.DataFrame(np.asmatrix(list(trans)),columns = permu_names)\n",
    "\n",
    "test_new = pd.concat([translat, tags_DF], axis=1,join_axes=[translat.index])\n",
    "test_new.drop('phrases',axis=1, inplace=True)\n",
    "test_new.to_csv(path_or_buf='pos_tags_train_data.csv')"
   ]
  }
 ],
 "metadata": {
  "kernelspec": {
   "display_name": "Python 2",
   "language": "python",
   "name": "python2"
  },
  "language_info": {
   "codemirror_mode": {
    "name": "ipython",
    "version": 2
   },
   "file_extension": ".py",
   "mimetype": "text/x-python",
   "name": "python",
   "nbconvert_exporter": "python",
   "pygments_lexer": "ipython2",
   "version": "2.7.6"
  }
 },
 "nbformat": 4,
 "nbformat_minor": 0
}
