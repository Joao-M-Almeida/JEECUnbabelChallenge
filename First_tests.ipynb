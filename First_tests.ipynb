{
 "cells": [
  {
   "cell_type": "code",
   "execution_count": null,
   "metadata": {
    "collapsed": true
   },
   "outputs": [],
   "source": [
    "import pandas as pd\n",
    "import numpy as np\n",
    "#from post_tag import *\n",
    "import csv"
   ]
  },
  {
   "cell_type": "code",
   "execution_count": null,
   "metadata": {
    "collapsed": false
   },
   "outputs": [],
   "source": [
    "translations = pd.read_csv(\"training.txt\", sep=\"\\t\", header=None, names=['labels','phrases'], quoting=csv.QUOTE_NONE)\n",
    "translations"
   ]
  },
  {
   "cell_type": "code",
   "execution_count": null,
   "metadata": {
    "collapsed": false
   },
   "outputs": [],
   "source": [
    "#Notes about the data:\n",
    "# it's about 50/50 labels\n",
    "\n"
   ]
  },
  {
   "cell_type": "code",
   "execution_count": null,
   "metadata": {
    "collapsed": false
   },
   "outputs": [],
   "source": [
    "from sklearn.feature_extraction.text import  CountVectorizer\n",
    "from sklearn.decomposition import LatentDirichletAllocation\n",
    "import sklearn\n",
    "#from stop_words import get_stop_words\n",
    "from time import time\n",
    "from nltk.corpus import stopwords\n"
   ]
  },
  {
   "cell_type": "code",
   "execution_count": null,
   "metadata": {
    "collapsed": false
   },
   "outputs": [],
   "source": [
    "es_stop = stopwords.words('spanish')"
   ]
  },
  {
   "cell_type": "code",
   "execution_count": null,
   "metadata": {
    "collapsed": true
   },
   "outputs": [],
   "source": [
    "M_doc_freq = 0.80\n",
    "min_doc_freq = 10\n",
    "\n",
    "CV = CountVectorizer(max_df=M_doc_freq, min_df=min_doc_freq, stop_words=es_stop, binary=True, lowercase=True)"
   ]
  },
  {
   "cell_type": "code",
   "execution_count": null,
   "metadata": {
    "collapsed": false
   },
   "outputs": [],
   "source": [
    "# Fit the vectorizer\n",
    "t0 = time()\n",
    "CV = CV.fit(translations['phrases'].values)\n",
    "\n",
    "phrase_matrix = CV.transform(translations['phrases'].values)\n",
    "print(\"done in %0.3fs.\" % (time() - t0))\n",
    "tf_feature_names = CV.get_feature_names()"
   ]
  },
  {
   "cell_type": "code",
   "execution_count": null,
   "metadata": {
    "collapsed": false
   },
   "outputs": [],
   "source": [
    "n_wrds=len(CV.vocabulary_)"
   ]
  },
  {
   "cell_type": "code",
   "execution_count": null,
   "metadata": {
    "collapsed": false
   },
   "outputs": [],
   "source": [
    "cols = ['bw' + str(i) for i in range(n_wrds)]\n",
    "\n",
    "BofW_feats = pd.DataFrame(phrase_matrix.todense(), columns=cols)\n",
    "BofW_feats.to_csv('BoW_feats.csv')"
   ]
  },
  {
   "cell_type": "code",
   "execution_count": null,
   "metadata": {
    "collapsed": true
   },
   "outputs": [],
   "source": [
    "from sklearn.svm import SVC\n",
    "from sklearn.metrics import accuracy_score\n",
    "from sklearn import cross_validation\n",
    "from sklearn.decomposition import PCA\n",
    "from sklearn.decomposition import TruncatedSVD\n",
    "import csv"
   ]
  },
  {
   "cell_type": "code",
   "execution_count": null,
   "metadata": {
    "collapsed": true
   },
   "outputs": [],
   "source": [
    "data = phrase_matrix\n",
    "target = translations['labels'].values\n",
    "classf =  SVC()"
   ]
  },
  {
   "cell_type": "code",
   "execution_count": null,
   "metadata": {
    "collapsed": false
   },
   "outputs": [],
   "source": [
    "t0 = time()\n",
    "classf.fit(data,target)\n",
    "print \"Score of SVM: \" + str(classf.score(data,target))\n",
    "print(\"done in %0.3fs.\" % (time() - t0))"
   ]
  },
  {
   "cell_type": "code",
   "execution_count": null,
   "metadata": {
    "collapsed": false
   },
   "outputs": [],
   "source": [
    "t0 = time()\n",
    "svd = TruncatedSVD(n_components=100, random_state=42)\n",
    "svd.fit(data) \n",
    "data = svd.transform(data)\n",
    "print(\"SVD fit done in %0.3fs.\" % (time() - t0))"
   ]
  },
  {
   "cell_type": "code",
   "execution_count": null,
   "metadata": {
    "collapsed": false
   },
   "outputs": [],
   "source": [
    "t0 = time()\n",
    "data = data\n",
    "pca = PCA(n_components =500)\n",
    "pca.fit(data)\n",
    "data = pca.transform(data)\n",
    "print(\"PCA fit done in %0.3fs.\" % (time() - t0))"
   ]
  },
  {
   "cell_type": "code",
   "execution_count": null,
   "metadata": {
    "collapsed": false
   },
   "outputs": [],
   "source": [
    "t0 = time()\n",
    "classf = SVC()\n",
    "scores = cross_validation.cross_val_score(classf,data,target, n_jobs=-1, cv = 10)\n",
    "print \"Scores: \" + str(scores)\n",
    "print \"Crossval Final score: \"+ str(sum(scores)/10)\n",
    "print(\"Cross val done in %0.3fs.\" % (time() - t0))"
   ]
  },
  {
   "cell_type": "code",
   "execution_count": null,
   "metadata": {
    "collapsed": false
   },
   "outputs": [],
   "source": []
  },
  {
   "cell_type": "code",
   "execution_count": null,
   "metadata": {
    "collapsed": true
   },
   "outputs": [],
   "source": []
  },
  {
   "cell_type": "code",
   "execution_count": null,
   "metadata": {
    "collapsed": true
   },
   "outputs": [],
   "source": []
  },
  {
   "cell_type": "code",
   "execution_count": null,
   "metadata": {
    "collapsed": false
   },
   "outputs": [],
   "source": [
    "# How to process a test set and predict the labels \n",
    "\n",
    "test = pd.read_csv(\"example_test.txt\", sep=\"\\t\", header=None, names=['labels','phrases'], lineterminator='\\n', quoting=csv.QUOTE_NONE)\n",
    "test"
   ]
  },
  {
   "cell_type": "code",
   "execution_count": null,
   "metadata": {
    "collapsed": false
   },
   "outputs": [],
   "source": [
    "testlabs = classf.predict(svd.transform(CV.transform(test['phrases'])))"
   ]
  },
  {
   "cell_type": "code",
   "execution_count": null,
   "metadata": {
    "collapsed": false
   },
   "outputs": [],
   "source": [
    "test.labels = test['labels'] = testlabs\n",
    "test"
   ]
  },
  {
   "cell_type": "code",
   "execution_count": null,
   "metadata": {
    "collapsed": true
   },
   "outputs": [],
   "source": []
  },
  {
   "cell_type": "code",
   "execution_count": null,
   "metadata": {
    "collapsed": false
   },
   "outputs": [],
   "source": [
    "test.to_csv(\"example_test_output.txt\", sep=\"\\t\", header=False, index=False, quoting=csv.QUOTE_NONE)"
   ]
  },
  {
   "cell_type": "code",
   "execution_count": null,
   "metadata": {
    "collapsed": false
   },
   "outputs": [],
   "source": [
    "test.iloc[0]['phrases']"
   ]
  },
  {
   "cell_type": "code",
   "execution_count": null,
   "metadata": {
    "collapsed": true
   },
   "outputs": [],
   "source": [
    "import pandas as pd\n",
    "import numpy as np\n",
    "from post_tag import *\n",
    "import csv\n",
    "from time import time\n",
    "translations = pd.read_csv(\"training.txt\", sep=\"\\t\", header=None, names=['labels','phrases'], quoting=csv.QUOTE_NONE)\n",
    "\n"
   ]
  },
  {
   "cell_type": "code",
   "execution_count": null,
   "metadata": {
    "collapsed": false
   },
   "outputs": [],
   "source": [
    "# play around with pos tagging\n",
    "trans = translations['phrases'].apply(postag)"
   ]
  },
  {
   "cell_type": "code",
   "execution_count": null,
   "metadata": {
    "collapsed": false
   },
   "outputs": [],
   "source": [
    "test = pd.read_csv(\"example_test.txt\", sep=\"\\t\", header=None, names=['labels','phrases'], lineterminator='\\n', quoting=csv.QUOTE_NONE)\n",
    "\n",
    "test"
   ]
  },
  {
   "cell_type": "code",
   "execution_count": null,
   "metadata": {
    "collapsed": false
   },
   "outputs": [],
   "source": [
    "t0 = time()\n",
    "test_tagged = test['phrases'].apply(postag)\n",
    "print(\"done in %0.3fs.\"%(time()-t0))"
   ]
  },
  {
   "cell_type": "code",
   "execution_count": null,
   "metadata": {
    "collapsed": false
   },
   "outputs": [],
   "source": [
    "fdist = itertools.permutations(words, 2)\n",
    "permu_names = [f for f in fdist]\n",
    "tags_DF = pd.DataFrame(np.asmatrix(list(test_tagged)),columns = permu_names)\n",
    "\n",
    "test_new = pd.concat([test, tags_DF], axis=1,join_axes=[test.index])\n",
    "test_new.drop('phrases',axis=1, inplace=True)\n",
    "test_new.to_csv(path_or_buf='pos_tags_train_data.csv')"
   ]
  },
  {
   "cell_type": "code",
   "execution_count": null,
   "metadata": {
    "collapsed": false
   },
   "outputs": [],
   "source": []
  },
  {
   "cell_type": "code",
   "execution_count": null,
   "metadata": {
    "collapsed": false
   },
   "outputs": [],
   "source": []
  },
  {
   "cell_type": "code",
   "execution_count": null,
   "metadata": {
    "collapsed": true
   },
   "outputs": [],
   "source": []
  },
  {
   "cell_type": "code",
   "execution_count": null,
   "metadata": {
    "collapsed": true
   },
   "outputs": [],
   "source": []
  },
  {
   "cell_type": "code",
   "execution_count": null,
   "metadata": {
    "collapsed": false
   },
   "outputs": [],
   "source": [
    "import cProfile\n",
    "cProfile.run('test_tagged = test[\"phrases\"].apply(postag)')"
   ]
  },
  {
   "cell_type": "code",
   "execution_count": null,
   "metadata": {
    "collapsed": false
   },
   "outputs": [],
   "source": [
    "translat = translations[0:100]"
   ]
  },
  {
   "cell_type": "code",
   "execution_count": null,
   "metadata": {
    "collapsed": true
   },
   "outputs": [],
   "source": []
  },
  {
   "cell_type": "code",
   "execution_count": null,
   "metadata": {
    "collapsed": false
   },
   "outputs": [],
   "source": [
    "tags_DF"
   ]
  },
  {
   "cell_type": "code",
   "execution_count": null,
   "metadata": {
    "collapsed": true
   },
   "outputs": [],
   "source": [
    "# Now transform all the data\n",
    "import pandas as pd\n",
    "import numpy as np\n",
    "from post_tag import *\n",
    "import csv\n",
    "from time import time\n",
    "translations = pd.read_csv(\"training.txt\", sep=\"\\t\", header=None, names=['labels','phrases'], quoting=csv.QUOTE_NONE)\n",
    "fdist = itertools.permutations(words, 2)\n",
    "permu_names = [f for f in fdist]\n",
    "\n"
   ]
  },
  {
   "cell_type": "code",
   "execution_count": null,
   "metadata": {
    "collapsed": false
   },
   "outputs": [],
   "source": [
    "trans = translat['phrases'].apply(postag)\n",
    "tags_DF = pd.DataFrame(np.asmatrix(list(trans)),columns = permu_names)\n",
    "\n",
    "test_new = pd.concat([translat, tags_DF], axis=1,join_axes=[translat.index])\n",
    "test_new.drop('phrases',axis=1, inplace=True)\n",
    "test_new.to_csv(path_or_buf='pos_tags_train_data.csv')"
   ]
  }
 ],
 "metadata": {
  "kernelspec": {
   "display_name": "Python 2",
   "language": "python",
   "name": "python2"
  },
  "language_info": {
   "codemirror_mode": {
    "name": "ipython",
    "version": 2
   },
   "file_extension": ".py",
   "mimetype": "text/x-python",
   "name": "python",
   "nbconvert_exporter": "python",
   "pygments_lexer": "ipython2",
   "version": "2.7.6"
  }
 },
 "nbformat": 4,
 "nbformat_minor": 0
}
